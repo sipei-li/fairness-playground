{
 "cells": [
  {
   "cell_type": "code",
   "execution_count": 1,
   "id": "f3e7e901-8faa-4941-8b44-734212274286",
   "metadata": {},
   "outputs": [],
   "source": [
    "import numpy as np\n",
    "import pandas as pd\n",
    "from sklearn.feature_extraction.text import TfidfVectorizer\n",
    "from sklearn.decomposition import LatentDirichletAllocation, NMF, TruncatedSVD\n",
    "from sklearn.metrics.pairwise import cosine_similarity\n",
    "from sklearn.neighbors import NearestNeighbors\n",
    "from sklearn.model_selection import train_test_split\n",
    "from itertools import combinations\n",
    "from scipy import sparse\n",
    "from scipy.sparse.linalg import svds\n",
    "import implicit\n",
    "\n",
    "import random\n",
    "my_seed = 0\n",
    "random.seed(my_seed)\n",
    "np.random.seed(my_seed)\n",
    "\n",
    "import matplotlib.pyplot as plt\n",
    "import json"
   ]
  },
  {
   "cell_type": "code",
   "execution_count": 2,
   "id": "4365692c-df92-4866-ba99-cb7893ef47a3",
   "metadata": {},
   "outputs": [],
   "source": [
    "import math\n",
    "# ground_truth: list of items ordered by time\n",
    "def nDCG_Time(ground_truth, _recList):\n",
    "    rec_num = len(_recList) # topK\n",
    "    # ground_truth is already sorted by time\n",
    "    idealOrder = ground_truth\n",
    "    idealDCG = 0.0\n",
    "    for j in range(min(rec_num, len(idealOrder))):\n",
    "        idealDCG += ((math.pow(2.0, len(idealOrder) - j) - 1) / math.log(2.0 + j))\n",
    "\n",
    "    recDCG = 0.0\n",
    "    for j in range(rec_num):\n",
    "        item = _recList[j]\n",
    "        if item in ground_truth:\n",
    "            rank = len(ground_truth) - ground_truth.index(item) # why ground truth?\n",
    "            recDCG += ((math.pow(2.0, rank) - 1) / math.log(1.0 + j + 1))\n",
    "\n",
    "    return (recDCG / idealDCG)\n",
    "\n",
    "\n",
    "def Recall(_test_set, _recList):\n",
    "    hit = len(set(_recList).intersection(set(_test_set)))\n",
    "    # return hit / float(len(_test_set))\n",
    "    return hit / min(float(len(_test_set)), float(len(_recList)))\n",
    "\n",
    "def Precision(_test_set, _recList):\n",
    "    hit = len(set(_recList).intersection(set(_test_set)))\n",
    "    return hit / float(len(_recList))"
   ]
  },
  {
   "cell_type": "code",
   "execution_count": 3,
   "id": "5fe89410-7176-4f41-8025-c983fb33f532",
   "metadata": {},
   "outputs": [],
   "source": [
    "# local data\n",
    "listening_df = pd.read_csv('./data/lastfm_2020/listening_events_2020.tsv', header=1, sep='\\t',\n",
    "                           names=['user_id', 'track_id', 'album_id', 'timestamp'])\n",
    "user_df = pd.read_csv('./data/lastfm_2020/users_2020.tsv', header=1, sep='\\t',\n",
    "                     names=['user_id', 'country', 'age', 'gender', 'creation_time'])"
   ]
  },
  {
   "cell_type": "code",
   "execution_count": 4,
   "id": "52ea6514-200d-4307-b247-249766e27860",
   "metadata": {},
   "outputs": [
    {
     "name": "stdout",
     "output_type": "stream",
     "text": [
      "2\n"
     ]
    }
   ],
   "source": [
    "listening_users = listening_df['user_id'].unique()\n",
    "filed_users = user_df['user_id'].unique()\n",
    "\n",
    "for id in listening_users:\n",
    "    if id not in filed_users:\n",
    "        print(id)"
   ]
  },
  {
   "cell_type": "code",
   "execution_count": 5,
   "id": "c47676e7-184d-4d47-8575-5c2d4ea56c96",
   "metadata": {},
   "outputs": [],
   "source": [
    "# user with id 2 is not in the `user_df`, so we delete their record from `listening_df` as well.\n",
    "listening_df = listening_df[listening_df['user_id'] != 2]"
   ]
  },
  {
   "cell_type": "code",
   "execution_count": 6,
   "id": "721c4956-e93c-48c1-b4d4-6e2f383c7fd4",
   "metadata": {},
   "outputs": [],
   "source": [
    "# get the users with interaction number > 10\n",
    "user_counts = listening_df['user_id'].value_counts()"
   ]
  },
  {
   "cell_type": "code",
   "execution_count": 11,
   "id": "e20cc124-f09a-47d3-ba49-54f2a4235492",
   "metadata": {},
   "outputs": [],
   "source": [
    "filtered_users = user_counts[user_counts > 10]"
   ]
  },
  {
   "cell_type": "code",
   "execution_count": 12,
   "id": "3415067c-d48e-4a63-b6d1-22db806e51ad",
   "metadata": {},
   "outputs": [],
   "source": [
    "filtered_user_df = filtered_users.to_frame().reset_index()"
   ]
  },
  {
   "cell_type": "code",
   "execution_count": 39,
   "id": "13d6b91f-a69e-465a-a55b-5e119f9e19bf",
   "metadata": {},
   "outputs": [],
   "source": [
    "# group the users into three levels of interactions:\n",
    "# (10, 1000], (1000, 5000], (5000, -)\n",
    "level_one_user_df = filtered_user_df[filtered_user_df['count'] < 1001]\n",
    "level_two_user_df = filtered_user_df[(filtered_user_df['count'] < 5001) & (filtered_user_df['count'] > 1000)]\n",
    "level_thr_user_df = filtered_user_df[filtered_user_df['count'] > 5000]"
   ]
  },
  {
   "cell_type": "code",
   "execution_count": 41,
   "id": "23a17350-3588-47a3-9d40-312be76a985c",
   "metadata": {},
   "outputs": [
    {
     "name": "stdout",
     "output_type": "stream",
     "text": [
      "Number of users in each group:\n",
      "10-1000: 6084\n",
      "1001-5000: 7523\n",
      "5001-: 1157\n"
     ]
    }
   ],
   "source": [
    "print('Number of users in each group:')\n",
    "print(f'10-1000: {level_one_user_df.shape[0]}')\n",
    "print(f'1001-5000: {level_two_user_df.shape[0]}')\n",
    "print(f'5001-: {level_thr_user_df.shape[0]}')"
   ]
  },
  {
   "cell_type": "code",
   "execution_count": 30,
   "id": "fa53e6fa-942c-473d-bf7a-e6cb09ae1755",
   "metadata": {},
   "outputs": [],
   "source": [
    "# only keep the records from filtered users\n",
    "filtered_listening_df = listening_df.merge(filtered_user_df, on='user_id')"
   ]
  },
  {
   "cell_type": "code",
   "execution_count": 31,
   "id": "8f734da5-a6e8-4f44-bc8e-d8b83fc3f7ff",
   "metadata": {},
   "outputs": [
    {
     "data": {
      "text/plain": [
       "30354942"
      ]
     },
     "execution_count": 31,
     "metadata": {},
     "output_type": "execute_result"
    }
   ],
   "source": [
    "filtered_listening_df.shape[0]"
   ]
  },
  {
   "cell_type": "markdown",
   "id": "459c301b-69a1-4f3f-aa77-f8eeed038fc7",
   "metadata": {},
   "source": [
    "### Collaborative filtering"
   ]
  },
  {
   "cell_type": "code",
   "execution_count": 32,
   "id": "11a3ea0c-9e07-4a0f-a03b-9090256d93d0",
   "metadata": {},
   "outputs": [],
   "source": [
    "def df_to_mat(df, user_n, item_n, user_id_to_iid, item_id_to_iid):\n",
    "    \"\"\"\n",
    "    Convert DataFrame to sparse matrix.\n",
    "\n",
    "    Arg:\n",
    "        df: DataFrame, ratings dataframe with user_id, movie_id and rating\n",
    "\n",
    "    Return:\n",
    "        mat: scipy.sparse.csr_matrix, sparse ratings matrix with rows being users and cols being items\n",
    "    \"\"\"\n",
    "    \n",
    "    mat = sparse.lil_matrix((user_n, item_n))\n",
    "    for _, row in df.iterrows():\n",
    "        user_id = int(row[0])\n",
    "        item_id = int(row[1])\n",
    "        user_iid = user_id_to_iid[user_id]\n",
    "        item_iid = item_id_to_iid[item_id]\n",
    "        mat[user_iid, item_iid] = 1\n",
    "    \n",
    "    return mat"
   ]
  },
  {
   "cell_type": "code",
   "execution_count": 33,
   "id": "85bd42dc-0e0a-4484-aff1-5d9339542f23",
   "metadata": {},
   "outputs": [],
   "source": [
    "user_n = filtered_listening_df['user_id'].nunique()\n",
    "item_n = filtered_listening_df['track_id'].nunique()"
   ]
  },
  {
   "cell_type": "code",
   "execution_count": 37,
   "id": "badc64af-d7de-4a0a-a299-997c43fa7783",
   "metadata": {},
   "outputs": [],
   "source": [
    "user_ids = filtered_listening_df['user_id'].unique()\n",
    "item_ids = filtered_listening_df['track_id'].unique()\n",
    "\n",
    "user_id_to_iid = {user_ids[i]:i for i in range(len(user_ids))}\n",
    "user_iid_to_id = {i:user_ids[i] for i in range(len(user_ids))}\n",
    "\n",
    "item_id_to_iid = {item_ids[i]:i for i in range(len(item_ids))}\n",
    "item_iid_to_id = {i:item_ids[i] for i in range(len(item_ids))}"
   ]
  },
  {
   "cell_type": "code",
   "execution_count": 43,
   "id": "492ac728-6c1a-4a20-87ca-27eceea52648",
   "metadata": {},
   "outputs": [],
   "source": [
    "level_one_user_ids = level_one_user_df['user_id'].unique()\n",
    "level_two_user_ids = level_two_user_df['user_id'].unique()\n",
    "level_thr_user_ids = level_thr_user_df['user_id'].unique()"
   ]
  },
  {
   "cell_type": "code",
   "execution_count": 44,
   "id": "0578c17f-3b2e-4a19-8b59-1063fa67e95a",
   "metadata": {},
   "outputs": [],
   "source": [
    "train_df, test_df = train_test_split(filtered_listening_df, test_size=0.2)"
   ]
  },
  {
   "cell_type": "code",
   "execution_count": 45,
   "id": "36417e5e-e9c2-4bc6-884a-cae9fdaf4abb",
   "metadata": {},
   "outputs": [],
   "source": [
    "train_mat = df_to_mat(train_df, user_n, item_n, user_id_to_iid, item_id_to_iid)\n",
    "train_mat = train_mat.tocsr()\n",
    "\n",
    "test_mat = df_to_mat(test_df, user_n, item_n, user_id_to_iid, item_id_to_iid)\n",
    "test_mat = test_mat.tocsr()"
   ]
  },
  {
   "cell_type": "code",
   "execution_count": 46,
   "id": "fe128015-b3c2-4642-a99b-9a0b7b5319e4",
   "metadata": {},
   "outputs": [
    {
     "name": "stderr",
     "output_type": "stream",
     "text": [
      "/Users/sipei/micromamba/envs/fairness_env/lib/python3.8/site-packages/implicit/cpu/als.py:95: RuntimeWarning: OpenBLAS is configured to use 12 threads. It is highly recommended to disable its internal threadpool by setting the environment variable 'OPENBLAS_NUM_THREADS=1' or by calling 'threadpoolctl.threadpool_limits(1, \"blas\")'. Having OpenBLAS use a threadpool can lead to severe performance issues here.\n",
      "  check_blas_config()\n"
     ]
    },
    {
     "data": {
      "application/vnd.jupyter.widget-view+json": {
       "model_id": "df45806454154861b72ac1ff73a93c21",
       "version_major": 2,
       "version_minor": 0
      },
      "text/plain": [
       "  0%|          | 0/15 [00:00<?, ?it/s]"
      ]
     },
     "metadata": {},
     "output_type": "display_data"
    }
   ],
   "source": [
    "mf = implicit.als.AlternatingLeastSquares(factors=100, regularization=0.01, alpha=1.0)\n",
    "mf.fit(train_mat)"
   ]
  },
  {
   "cell_type": "code",
   "execution_count": 55,
   "id": "136886d5-6213-4dae-97ad-974321d03992",
   "metadata": {},
   "outputs": [],
   "source": [
    "level_one_recall = []\n",
    "for user_id in level_one_user_ids:\n",
    "    user_iid = user_id_to_iid[user_id]\n",
    "    \n",
    "    test_item_iids = list(np.argwhere(test_mat[user_iid] > 0)[:, 1])\n",
    "    test_item_ids = [item_iid_to_id[iid] for iid in test_item_iids]\n",
    "\n",
    "    if len(test_item_ids) > 0:\n",
    "        top_item_iids = list(mf.recommend(user_iid, train_mat[user_iid], N=10, filter_already_liked_items=True)[0])\n",
    "        top_item_ids = [item_iid_to_id[iid] for iid in top_item_iids]\n",
    "\n",
    "        recall = Recall(test_item_ids, top_item_ids)\n",
    "        level_one_recall.append(recall)"
   ]
  },
  {
   "cell_type": "code",
   "execution_count": 56,
   "id": "1c595c5d-1ab7-4498-9ddd-618458484fa9",
   "metadata": {},
   "outputs": [
    {
     "data": {
      "text/plain": [
       "0.047330185917142435"
      ]
     },
     "execution_count": 56,
     "metadata": {},
     "output_type": "execute_result"
    }
   ],
   "source": [
    "np.average(level_one_recall)"
   ]
  },
  {
   "cell_type": "code",
   "execution_count": 57,
   "id": "1fd3bc63-ec02-4e5b-b3b3-3b80f02904b6",
   "metadata": {},
   "outputs": [],
   "source": [
    "level_two_recall = []\n",
    "for user_id in level_two_user_ids:\n",
    "    user_iid = user_id_to_iid[user_id]\n",
    "    \n",
    "    test_item_iids = list(np.argwhere(test_mat[user_iid] > 0)[:, 1])\n",
    "    test_item_ids = [item_iid_to_id[iid] for iid in test_item_iids]\n",
    "\n",
    "    if len(test_item_ids) > 0:\n",
    "        top_item_iids = list(mf.recommend(user_iid, train_mat[user_iid], N=10, filter_already_liked_items=True)[0])\n",
    "        top_item_ids = [item_iid_to_id[iid] for iid in top_item_iids]\n",
    "\n",
    "        recall = Recall(test_item_ids, top_item_ids)\n",
    "        level_two_recall.append(recall)"
   ]
  },
  {
   "cell_type": "code",
   "execution_count": 58,
   "id": "a4ca05c8-4d0e-4816-843c-353596c7be1a",
   "metadata": {},
   "outputs": [
    {
     "data": {
      "text/plain": [
       "0.10817493021401037"
      ]
     },
     "execution_count": 58,
     "metadata": {},
     "output_type": "execute_result"
    }
   ],
   "source": [
    "np.average(level_two_recall)"
   ]
  },
  {
   "cell_type": "code",
   "execution_count": 59,
   "id": "056e42f0-3529-4940-a5a0-34b17a4f4ac9",
   "metadata": {},
   "outputs": [],
   "source": [
    "level_thr_recall = []\n",
    "for user_id in level_thr_user_ids:\n",
    "    user_iid = user_id_to_iid[user_id]\n",
    "    \n",
    "    test_item_iids = list(np.argwhere(test_mat[user_iid] > 0)[:, 1])\n",
    "    test_item_ids = [item_iid_to_id[iid] for iid in test_item_iids]\n",
    "\n",
    "    if len(test_item_ids) > 0:\n",
    "        top_item_iids = list(mf.recommend(user_iid, train_mat[user_iid], N=10, filter_already_liked_items=True)[0])\n",
    "        top_item_ids = [item_iid_to_id[iid] for iid in top_item_iids]\n",
    "\n",
    "        recall = Recall(test_item_ids, top_item_ids)\n",
    "        level_thr_recall.append(recall)"
   ]
  },
  {
   "cell_type": "code",
   "execution_count": 60,
   "id": "08eaf17d-2a56-49b6-863a-01ba6810a5db",
   "metadata": {},
   "outputs": [
    {
     "data": {
      "text/plain": [
       "0.13336214347450304"
      ]
     },
     "execution_count": 60,
     "metadata": {},
     "output_type": "execute_result"
    }
   ],
   "source": [
    "np.average(level_thr_recall)"
   ]
  },
  {
   "cell_type": "code",
   "execution_count": null,
   "id": "0d719a49-37bc-4405-ac19-dd4fe4dfc70b",
   "metadata": {},
   "outputs": [],
   "source": [
    "cf_scores = [level_one_recall, level_two_recall, level_thr_recall]"
   ]
  },
  {
   "cell_type": "markdown",
   "id": "600352c0-d056-4c27-ac97-2a85c3364c78",
   "metadata": {},
   "source": [
    "### Content-based filtering"
   ]
  },
  {
   "cell_type": "code",
   "execution_count": 62,
   "id": "4a4972c7-d036-4c67-8939-b95a83bbfa46",
   "metadata": {},
   "outputs": [],
   "source": [
    "track_json_lst = []\n",
    "with open('./data/lastfm/tags.json', 'r', encoding='utf-8') as f:\n",
    "    for obj in f:\n",
    "        track_dict = json.loads(obj)\n",
    "        track_json_lst.append(track_dict)"
   ]
  },
  {
   "cell_type": "code",
   "execution_count": 63,
   "id": "f3e4c813-a0a7-4488-9be3-378c63d0abea",
   "metadata": {},
   "outputs": [],
   "source": [
    "track_tags_lst = []\n",
    "for obj in track_json_lst:\n",
    "    track_id = obj['i']\n",
    "    tags = list(obj['tags'].keys())[:10]    # use the first 10 tags\n",
    "    track_tags_lst.append([track_id, tags])"
   ]
  },
  {
   "cell_type": "code",
   "execution_count": 64,
   "id": "132eac16-15f1-4f15-8802-65345cd3d07b",
   "metadata": {},
   "outputs": [],
   "source": [
    "tag_df = pd.DataFrame(track_tags_lst, columns=['track_id', 'tags'])"
   ]
  },
  {
   "cell_type": "code",
   "execution_count": 109,
   "id": "b4adccea-9351-4b4f-9536-669f2cb20946",
   "metadata": {},
   "outputs": [
    {
     "data": {
      "text/plain": [
       "array([18604619,  8722087, 23875642, ..., 15335759, 21859388, 24796385])"
      ]
     },
     "execution_count": 109,
     "metadata": {},
     "output_type": "execute_result"
    }
   ],
   "source": [
    "user_id = 45536\n",
    "np.asarray(train_df[(train_df['user_id']==user_id)]['track_id'].value_counts().index)"
   ]
  },
  {
   "cell_type": "code",
   "execution_count": 124,
   "id": "429906af-0f88-4138-9580-660fcffe749d",
   "metadata": {},
   "outputs": [],
   "source": [
    "def cb_recommend(user_id, topk, knn, train_df, X, item_n, item_id_to_iid, item_iid_to_id):\n",
    "    sorted_rated_before = np.asarray(train_df[(train_df['user_id']==user_id)]['track_id'].value_counts().index)\n",
    "    \n",
    "    if sorted_rated_before.size > 0:\n",
    "\n",
    "        raw_recommends = {}\n",
    "        for item_id in sorted_rated_before:\n",
    "            item_iid = item_id_to_iid[item_id]\n",
    "            distances, indices = knn.kneighbors(X[item_iid], \n",
    "                                                n_neighbors=topk+1)\n",
    "            sorted_pairs = sorted(list(zip(indices.squeeze().tolist(),\n",
    "                                           distances.squeeze().tolist())),\n",
    "                                  key=lambda x: x[1])\n",
    "            raw_recommends[item_iid] = sorted_pairs \n",
    "        \n",
    "        top_item_ids = []\n",
    "        pos = 0\n",
    "        while True:\n",
    "            for item_id in sorted_rated_before:\n",
    "                item_iid = item_id_to_iid[item_id]\n",
    "                next_neighbor_iid = raw_recommends[item_iid][pos][0]\n",
    "                next_neighbor_id = item_iid_to_id[next_neighbor_iid]\n",
    "                if next_neighbor_id not in sorted_rated_before:\n",
    "                    top_item_ids.append(next_neighbor_id)\n",
    "                if len(top_item_ids) > topk - 1:\n",
    "                    return (user_id, np.array(top_item_ids))\n",
    "            \n",
    "            pos += 1\n",
    "    else:\n",
    "\n",
    "        top_item_iids = random.sample(list(range(0, item_n)), topk)\n",
    "        top_item_ids = [item_iid_to_id[iid] for iid in top_item_iids]\n",
    "        return (user_id, np.asarray(top_item_ids))"
   ]
  },
  {
   "cell_type": "code",
   "execution_count": 133,
   "id": "95b704fd-3537-4e7a-b543-bbab5c0ea92a",
   "metadata": {},
   "outputs": [],
   "source": [
    "def sample_evaluate(test_user_ids, knn, X, train_df, test_df, item_n):\n",
    "\n",
    "    r = []\n",
    "    for user_id in test_user_ids:\n",
    "        test_item_ids = np.asarray(test_df[test_df['user_id']==user_id]['track_id'].unique())\n",
    "        \n",
    "        if len(test_item_ids) > 0:\n",
    "            top_item_ids = list(cb_recommend(user_id, 10, knn, train_df, X, item_n, item_id_to_iid, item_iid_to_id)[1])\n",
    "            recall = Recall(test_item_ids, top_item_ids)\n",
    "            r.append(recall)\n",
    "    \n",
    "    return np.average(r)"
   ]
  },
  {
   "cell_type": "code",
   "execution_count": 137,
   "id": "138f3d8e-eead-4055-8458-5bd1da30b869",
   "metadata": {},
   "outputs": [],
   "source": [
    "tagged_listening_df = pd.merge(listening_df, tag_df, on='track_id')\n",
    "tagged_listening_df = tagged_listening_df.sample(frac=0.1, ignore_index=True)"
   ]
  },
  {
   "cell_type": "code",
   "execution_count": 146,
   "id": "b9099104-c5fc-4f99-9989-c843ad95bc72",
   "metadata": {},
   "outputs": [
    {
     "data": {
      "text/plain": [
       "424016"
      ]
     },
     "execution_count": 146,
     "metadata": {},
     "output_type": "execute_result"
    }
   ],
   "source": [
    "item_n"
   ]
  },
  {
   "cell_type": "code",
   "execution_count": 138,
   "id": "406f4e60-6dfa-4b97-bb23-be5958998182",
   "metadata": {},
   "outputs": [],
   "source": [
    "user_counts = tagged_listening_df['user_id'].value_counts()"
   ]
  },
  {
   "cell_type": "code",
   "execution_count": 139,
   "id": "ed094904-7d08-4165-9b0c-37d93e4f4132",
   "metadata": {},
   "outputs": [],
   "source": [
    "filtered_users = user_counts[user_counts > 10]\n",
    "filtered_user_df = filtered_users.to_frame().reset_index()"
   ]
  },
  {
   "cell_type": "code",
   "execution_count": 142,
   "id": "3b199d29-10c2-4ec3-ad1e-b43cc6b77fd8",
   "metadata": {},
   "outputs": [],
   "source": [
    "# group the users into three levels of interactions:\n",
    "# (10, 1000], (1000, 5000], (5000, -)\n",
    "level_one_user_df = filtered_user_df[filtered_user_df['count'] < 101]\n",
    "level_two_user_df = filtered_user_df[(filtered_user_df['count'] < 501) & (filtered_user_df['count'] > 100)]\n",
    "level_thr_user_df = filtered_user_df[filtered_user_df['count'] > 500]"
   ]
  },
  {
   "cell_type": "code",
   "execution_count": 143,
   "id": "307c6ecd-c00e-4f93-aaad-94852cfeeba8",
   "metadata": {},
   "outputs": [
    {
     "name": "stdout",
     "output_type": "stream",
     "text": [
      "Number of users in each group:\n",
      "10-1000: 7093\n",
      "1001-5000: 5126\n",
      "5001-: 330\n"
     ]
    }
   ],
   "source": [
    "print('Number of users in each group:')\n",
    "print(f'10-1000: {level_one_user_df.shape[0]}')\n",
    "print(f'1001-5000: {level_two_user_df.shape[0]}')\n",
    "print(f'5001-: {level_thr_user_df.shape[0]}')"
   ]
  },
  {
   "cell_type": "code",
   "execution_count": 144,
   "id": "8e14a7da-0a15-4910-b917-a4a19f48cedd",
   "metadata": {},
   "outputs": [],
   "source": [
    "filtered_tagged_listening_df = tagged_listening_df.merge(filtered_user_df, on='user_id')"
   ]
  },
  {
   "cell_type": "code",
   "execution_count": 145,
   "id": "b2c3d94e-fd8f-4ec6-82a2-7cb7202059e4",
   "metadata": {},
   "outputs": [],
   "source": [
    "user_n = filtered_tagged_listening_df['user_id'].nunique()\n",
    "item_n = filtered_tagged_listening_df['track_id'].nunique()\n",
    "\n",
    "user_ids = filtered_tagged_listening_df['user_id'].unique()\n",
    "item_ids = filtered_tagged_listening_df['track_id'].unique()\n",
    "\n",
    "item_id_to_iid = {item_ids[i]:i for i in range(len(item_ids))}\n",
    "item_iid_to_id = {i:item_ids[i] for i in range(len(item_ids))}\n",
    "\n",
    "level_one_user_ids = level_one_user_df['user_id'].unique()\n",
    "level_two_user_ids = level_two_user_df['user_id'].unique()\n",
    "level_thr_user_ids = level_thr_user_df['user_id'].unique()"
   ]
  },
  {
   "cell_type": "code",
   "execution_count": 147,
   "id": "bf1058c8-8116-47d6-a19a-feb67a5c8208",
   "metadata": {},
   "outputs": [],
   "source": [
    "filtered_tag_df = filtered_tagged_listening_df.drop_duplicates(subset=['track_id'])[['track_id', 'tags']]"
   ]
  },
  {
   "cell_type": "code",
   "execution_count": 148,
   "id": "25ed0e0a-799e-43fa-be7e-99791d6176ce",
   "metadata": {},
   "outputs": [],
   "source": [
    "tf = TfidfVectorizer(analyzer = lambda x: (g for g in x))\n",
    "X_tfidf = tf.fit_transform(filtered_tag_df['tags'])"
   ]
  },
  {
   "cell_type": "code",
   "execution_count": 149,
   "id": "95ae382f-104c-4ed7-8f39-93f5a9d93d5f",
   "metadata": {},
   "outputs": [
    {
     "data": {
      "text/html": [
       "<style>#sk-container-id-2 {color: black;}#sk-container-id-2 pre{padding: 0;}#sk-container-id-2 div.sk-toggleable {background-color: white;}#sk-container-id-2 label.sk-toggleable__label {cursor: pointer;display: block;width: 100%;margin-bottom: 0;padding: 0.3em;box-sizing: border-box;text-align: center;}#sk-container-id-2 label.sk-toggleable__label-arrow:before {content: \"▸\";float: left;margin-right: 0.25em;color: #696969;}#sk-container-id-2 label.sk-toggleable__label-arrow:hover:before {color: black;}#sk-container-id-2 div.sk-estimator:hover label.sk-toggleable__label-arrow:before {color: black;}#sk-container-id-2 div.sk-toggleable__content {max-height: 0;max-width: 0;overflow: hidden;text-align: left;background-color: #f0f8ff;}#sk-container-id-2 div.sk-toggleable__content pre {margin: 0.2em;color: black;border-radius: 0.25em;background-color: #f0f8ff;}#sk-container-id-2 input.sk-toggleable__control:checked~div.sk-toggleable__content {max-height: 200px;max-width: 100%;overflow: auto;}#sk-container-id-2 input.sk-toggleable__control:checked~label.sk-toggleable__label-arrow:before {content: \"▾\";}#sk-container-id-2 div.sk-estimator input.sk-toggleable__control:checked~label.sk-toggleable__label {background-color: #d4ebff;}#sk-container-id-2 div.sk-label input.sk-toggleable__control:checked~label.sk-toggleable__label {background-color: #d4ebff;}#sk-container-id-2 input.sk-hidden--visually {border: 0;clip: rect(1px 1px 1px 1px);clip: rect(1px, 1px, 1px, 1px);height: 1px;margin: -1px;overflow: hidden;padding: 0;position: absolute;width: 1px;}#sk-container-id-2 div.sk-estimator {font-family: monospace;background-color: #f0f8ff;border: 1px dotted black;border-radius: 0.25em;box-sizing: border-box;margin-bottom: 0.5em;}#sk-container-id-2 div.sk-estimator:hover {background-color: #d4ebff;}#sk-container-id-2 div.sk-parallel-item::after {content: \"\";width: 100%;border-bottom: 1px solid gray;flex-grow: 1;}#sk-container-id-2 div.sk-label:hover label.sk-toggleable__label {background-color: #d4ebff;}#sk-container-id-2 div.sk-serial::before {content: \"\";position: absolute;border-left: 1px solid gray;box-sizing: border-box;top: 0;bottom: 0;left: 50%;z-index: 0;}#sk-container-id-2 div.sk-serial {display: flex;flex-direction: column;align-items: center;background-color: white;padding-right: 0.2em;padding-left: 0.2em;position: relative;}#sk-container-id-2 div.sk-item {position: relative;z-index: 1;}#sk-container-id-2 div.sk-parallel {display: flex;align-items: stretch;justify-content: center;background-color: white;position: relative;}#sk-container-id-2 div.sk-item::before, #sk-container-id-2 div.sk-parallel-item::before {content: \"\";position: absolute;border-left: 1px solid gray;box-sizing: border-box;top: 0;bottom: 0;left: 50%;z-index: -1;}#sk-container-id-2 div.sk-parallel-item {display: flex;flex-direction: column;z-index: 1;position: relative;background-color: white;}#sk-container-id-2 div.sk-parallel-item:first-child::after {align-self: flex-end;width: 50%;}#sk-container-id-2 div.sk-parallel-item:last-child::after {align-self: flex-start;width: 50%;}#sk-container-id-2 div.sk-parallel-item:only-child::after {width: 0;}#sk-container-id-2 div.sk-dashed-wrapped {border: 1px dashed gray;margin: 0 0.4em 0.5em 0.4em;box-sizing: border-box;padding-bottom: 0.4em;background-color: white;}#sk-container-id-2 div.sk-label label {font-family: monospace;font-weight: bold;display: inline-block;line-height: 1.2em;}#sk-container-id-2 div.sk-label-container {text-align: center;}#sk-container-id-2 div.sk-container {/* jupyter's `normalize.less` sets `[hidden] { display: none; }` but bootstrap.min.css set `[hidden] { display: none !important; }` so we also need the `!important` here to be able to override the default hidden behavior on the sphinx rendered scikit-learn.org. See: https://github.com/scikit-learn/scikit-learn/issues/21755 */display: inline-block !important;position: relative;}#sk-container-id-2 div.sk-text-repr-fallback {display: none;}</style><div id=\"sk-container-id-2\" class=\"sk-top-container\"><div class=\"sk-text-repr-fallback\"><pre>NearestNeighbors(metric=&#x27;cosine&#x27;, n_jobs=-1, n_neighbors=10)</pre><b>In a Jupyter environment, please rerun this cell to show the HTML representation or trust the notebook. <br />On GitHub, the HTML representation is unable to render, please try loading this page with nbviewer.org.</b></div><div class=\"sk-container\" hidden><div class=\"sk-item\"><div class=\"sk-estimator sk-toggleable\"><input class=\"sk-toggleable__control sk-hidden--visually\" id=\"sk-estimator-id-2\" type=\"checkbox\" checked><label for=\"sk-estimator-id-2\" class=\"sk-toggleable__label sk-toggleable__label-arrow\">NearestNeighbors</label><div class=\"sk-toggleable__content\"><pre>NearestNeighbors(metric=&#x27;cosine&#x27;, n_jobs=-1, n_neighbors=10)</pre></div></div></div></div></div>"
      ],
      "text/plain": [
       "NearestNeighbors(metric='cosine', n_jobs=-1, n_neighbors=10)"
      ]
     },
     "execution_count": 149,
     "metadata": {},
     "output_type": "execute_result"
    }
   ],
   "source": [
    "knn = NearestNeighbors(metric='cosine', algorithm='auto', n_neighbors=10, n_jobs=-1)\n",
    "knn.fit(X_tfidf)"
   ]
  },
  {
   "cell_type": "code",
   "execution_count": 150,
   "id": "74e5bd8d-72d4-409e-899b-0c56d7a0e293",
   "metadata": {},
   "outputs": [],
   "source": [
    "train_df, test_df = train_test_split(filtered_tagged_listening_df, test_size=0.2)\n",
    "\n",
    "# train_mat = df_to_mat(train_df, user_n, item_n, user_id_to_iid, item_id_to_iid)\n",
    "# train_mat = train_mat.transpose().tocsr()\n",
    "\n",
    "# test_mat = df_to_mat(test_df, user_n, item_n, user_id_to_iid, item_id_to_iid)\n",
    "# test_mat= test_mat.transpose().tocsr()"
   ]
  },
  {
   "cell_type": "code",
   "execution_count": 153,
   "id": "96e46ed7-8571-466b-a7d9-6e895b53ac27",
   "metadata": {},
   "outputs": [
    {
     "name": "stdout",
     "output_type": "stream",
     "text": [
      "Level one user recall: 0.008\n",
      "Level two user recall: 0.013999999999999999\n",
      "Level thr user recall: 0.014000000000000002\n"
     ]
    }
   ],
   "source": [
    "all_level_one_recall = []\n",
    "all_level_two_recall = []\n",
    "all_level_thr_recall = []\n",
    "\n",
    "n_iters = 1\n",
    "for _ in range(n_iters):\n",
    "\n",
    "    test_level_one_user_ids = np.random.choice(level_one_user_ids, size=50, replace=False)\n",
    "    test_level_two_user_ids = np.random.choice(level_two_user_ids, size=50, replace=False)\n",
    "    test_level_thr_user_ids = np.random.choice(level_thr_user_ids, size=50, replace=False)\n",
    "\n",
    "    level_one_recall = sample_evaluate(test_level_one_user_ids, knn, X_tfidf, train_df, test_df, item_n)\n",
    "    level_two_recall = sample_evaluate(test_level_two_user_ids, knn, X_tfidf, train_df, test_df, item_n)\n",
    "    level_thr_recall = sample_evaluate(test_level_thr_user_ids, knn, X_tfidf, train_df, test_df, item_n)\n",
    "\n",
    "    all_level_one_recall.append(level_one_recall)\n",
    "    all_level_two_recall.append(level_two_recall)\n",
    "    all_level_thr_recall.append(level_thr_recall)\n",
    "    \n",
    "    print(f'Level one user recall: {level_one_recall}')\n",
    "    print(f'Level two user recall: {level_two_recall}')\n",
    "    print(f'Level thr user recall: {level_thr_recall}')"
   ]
  },
  {
   "cell_type": "code",
   "execution_count": 154,
   "id": "83a5bd98-efb2-422a-86ba-312293d04f11",
   "metadata": {},
   "outputs": [],
   "source": [
    "cb_scores = [np.mean(all_level_one_recall),\n",
    "            np.mean(all_level_two_recall),\n",
    "            np.mean(all_level_thr_recall)]"
   ]
  },
  {
   "cell_type": "markdown",
   "id": "188d3b0a-cf20-4932-8f01-6f7a84b27556",
   "metadata": {},
   "source": [
    "### Fairness metric"
   ]
  },
  {
   "cell_type": "code",
   "execution_count": 155,
   "id": "0d3de0e7-f2bc-4c25-b2fd-7a0894f4f3df",
   "metadata": {},
   "outputs": [],
   "source": [
    "def ugf(scores):\n",
    "    return np.mean([abs(i[0] - i[1]) for i in combinations(scores, 2)])"
   ]
  },
  {
   "cell_type": "code",
   "execution_count": 156,
   "id": "07c79846-133f-4468-ab89-fa2d06be06ac",
   "metadata": {},
   "outputs": [
    {
     "data": {
      "text/plain": [
       "0.004000000000000001"
      ]
     },
     "execution_count": 156,
     "metadata": {},
     "output_type": "execute_result"
    }
   ],
   "source": [
    "ugf(cb_scores)"
   ]
  },
  {
   "cell_type": "code",
   "execution_count": 157,
   "id": "baf0b2ef-8616-4d8d-bddb-42bed345d310",
   "metadata": {},
   "outputs": [
    {
     "data": {
      "text/plain": [
       "0.05735463837157373"
      ]
     },
     "execution_count": 157,
     "metadata": {},
     "output_type": "execute_result"
    }
   ],
   "source": [
    "cf_scores = [0.047330185917142435, 0.10817493021401037, 0.13336214347450304]\n",
    "ugf(cf_scores)"
   ]
  },
  {
   "cell_type": "code",
   "execution_count": null,
   "id": "1c2fd60e-929d-4612-9a1f-a75ae8ce1254",
   "metadata": {},
   "outputs": [],
   "source": []
  }
 ],
 "metadata": {
  "kernelspec": {
   "display_name": "Python 3 (ipykernel)",
   "language": "python",
   "name": "python3"
  },
  "language_info": {
   "codemirror_mode": {
    "name": "ipython",
    "version": 3
   },
   "file_extension": ".py",
   "mimetype": "text/x-python",
   "name": "python",
   "nbconvert_exporter": "python",
   "pygments_lexer": "ipython3",
   "version": "3.8.18"
  }
 },
 "nbformat": 4,
 "nbformat_minor": 5
}
