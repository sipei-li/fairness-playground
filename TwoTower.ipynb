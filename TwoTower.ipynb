{
  "nbformat": 4,
  "nbformat_minor": 0,
  "metadata": {
    "colab": {
      "provenance": []
    },
    "kernelspec": {
      "name": "python3",
      "display_name": "Python 3"
    },
    "language_info": {
      "name": "python"
    }
  },
  "cells": [
    {
      "cell_type": "code",
      "source": [
        "!pip install -q tensorflow-recommenders==0.7.3"
      ],
      "metadata": {
        "id": "MrgYdViQkpxf"
      },
      "execution_count": 2,
      "outputs": []
    },
    {
      "cell_type": "code",
      "source": [
        "import os\n",
        "os.environ['TF_USE_LEGACY_KERAS'] = '1'"
      ],
      "metadata": {
        "id": "uQlL6PcG2Eby"
      },
      "execution_count": 1,
      "outputs": []
    },
    {
      "cell_type": "code",
      "source": [
        "import tensorflow as tf\n",
        "import tensorflow_datasets as tfds\n",
        "import tensorflow_recommenders as tfrs\n",
        "import numpy as np\n",
        "\n",
        "import os\n",
        "import tempfile\n",
        "\n",
        "import matplotlib.pyplot as plt\n",
        "\n",
        "plt.style.use('seaborn-v0_8-whitegrid')"
      ],
      "metadata": {
        "id": "KgGdW43nb5uQ"
      },
      "execution_count": 3,
      "outputs": []
    },
    {
      "cell_type": "markdown",
      "source": [
        "## Prepare Data"
      ],
      "metadata": {
        "id": "FG4qXgXIfHpx"
      }
    },
    {
      "cell_type": "code",
      "source": [
        "# load dataset\n",
        "ratings = tfds.load(\"movielens/100k-ratings\", split=\"train\")\n",
        "movies = tfds.load(\"movielens/100k-movies\", split=\"train\")"
      ],
      "metadata": {
        "id": "ZIuVGnmyb9py"
      },
      "execution_count": 4,
      "outputs": []
    },
    {
      "cell_type": "code",
      "source": [
        "ratings = ratings.map(lambda x: {\n",
        "    \"movie_title\": x[\"movie_title\"],\n",
        "    \"user_id\": x[\"user_id\"],\n",
        "    \"timestamp\": x[\"timestamp\"],\n",
        "})\n",
        "movies = movies.map(lambda x: x[\"movie_title\"])"
      ],
      "metadata": {
        "id": "IK46-wwJllzT"
      },
      "execution_count": 5,
      "outputs": []
    },
    {
      "cell_type": "code",
      "source": [
        "timestamps = np.concatenate(list(ratings.map(lambda x: x[\"timestamp\"]).batch(100)))\n",
        "\n",
        "max_timestamp = timestamps.max()\n",
        "min_timestamp = timestamps.min()\n",
        "\n",
        "timestamp_buckets = np.linspace(min_timestamp, max_timestamp, num=1000)\n",
        "\n",
        "unique_movie_titles = np.unique(np.concatenate(list(movies.batch(1000))))\n",
        "unique_user_ids = np.unique(np.concatenate(list(ratings.batch(1000).map(lambda x: x[\"user_id\"]))))"
      ],
      "metadata": {
        "id": "Ir8lpA-He_gc"
      },
      "execution_count": 6,
      "outputs": []
    },
    {
      "cell_type": "code",
      "source": [
        "unique_user_ids.shape"
      ],
      "metadata": {
        "colab": {
          "base_uri": "https://localhost:8080/"
        },
        "id": "zR7r52bd0bMN",
        "outputId": "1d8a0f2f-470b-42a1-c720-402a5499cabf"
      },
      "execution_count": 7,
      "outputs": [
        {
          "output_type": "execute_result",
          "data": {
            "text/plain": [
              "(943,)"
            ]
          },
          "metadata": {},
          "execution_count": 7
        }
      ]
    },
    {
      "cell_type": "markdown",
      "source": [
        "## Model\n",
        "\n",
        "### Query Tower"
      ],
      "metadata": {
        "id": "1Z291OktnHQA"
      }
    },
    {
      "cell_type": "code",
      "source": [
        "class UserModel(tf.keras.Model):\n",
        "\n",
        "    def __init__(self):\n",
        "        super().__init__()\n",
        "\n",
        "        self.user_embedding = tf.keras.Sequential([\n",
        "            tf.keras.layers.StringLookup(vocabulary=unique_user_ids, mask_token=None),\n",
        "            tf.keras.layers.Embedding(len(unique_user_ids) + 1, 32),\n",
        "        ])\n",
        "\n",
        "        self.timestamp_embedding = tf.keras.Sequential([\n",
        "            tf.keras.layers.Discretization(timestamp_buckets.tolist()),\n",
        "            tf.keras.layers.Embedding(len(timestamp_buckets) + 1, 32),\n",
        "        ])\n",
        "\n",
        "        self.normalized_timestamp = tf.keras.layers.Normalization(axis=None)\n",
        "        self.normalized_timestamp.adapt(timestamps)\n",
        "\n",
        "    def call(self, inputs):\n",
        "        return tf.concat([\n",
        "            self.user_embedding(inputs[\"user_id\"]),\n",
        "            self.timestamp_embedding(inputs[\"timestamp\"]),\n",
        "            tf.reshape(self.normalized_timestamp(inputs[\"timestamp\"]), (-1, 1))\n",
        "        ], axis=1)\n",
        "\n",
        "class QueryModel(tf.keras.Model):\n",
        "\n",
        "    def __init__(self, layer_sizes):\n",
        "\n",
        "        super().__init__()\n",
        "\n",
        "        self.embedding_model = UserModel() #QueryModel.embedding_model.normalized_timestamp.adapt(timestamps)\n",
        "\n",
        "        self.dense_layers = tf.keras.Sequential()\n",
        "        for layer_size in layer_sizes[:-1]:\n",
        "            self.dense_layers.add(tf.keras.layers.Dense(layer_size, activation=\"relu\"))\n",
        "\n",
        "        for layer_size in layer_sizes[-1:]:\n",
        "            self.dense_layers.add(tf.keras.layers.Dense(layer_size))\n",
        "\n",
        "    def call(self, inputs):\n",
        "        feature_embedding = self.embedding_model(inputs)\n",
        "        return self.dense_layers(feature_embedding)"
      ],
      "metadata": {
        "id": "DKgobpWMm2W7"
      },
      "execution_count": 8,
      "outputs": []
    },
    {
      "cell_type": "markdown",
      "source": [
        "### Candidate Tower"
      ],
      "metadata": {
        "id": "nvNa213ptvLi"
      }
    },
    {
      "cell_type": "code",
      "source": [
        "class MovieModel(tf.keras.Model):\n",
        "\n",
        "    def __init__(self):\n",
        "        super().__init__()\n",
        "\n",
        "        max_tokens = 10000\n",
        "\n",
        "        self.title_embedding = tf.keras.Sequential([\n",
        "            tf.keras.layers.StringLookup(vocabulary=unique_movie_titles, mask_token=None),\n",
        "            tf.keras.layers.Embedding(len(unique_movie_titles) + 1, 32),\n",
        "        ])\n",
        "\n",
        "        self.title_vectorizer = tf.keras.layers.TextVectorization(max_tokens=max_tokens)\n",
        "\n",
        "\n",
        "        self.title_text_embedding = tf.keras.Sequential([\n",
        "            self.title_vectorizer,\n",
        "            tf.keras.layers.Embedding(max_tokens, 32, mask_zero=True),\n",
        "            tf.keras.layers.GlobalAveragePooling1D(),\n",
        "        ])\n",
        "\n",
        "        self.title_vectorizer.adapt(movies)\n",
        "\n",
        "    def call(self, titles):\n",
        "        return tf.concat([\n",
        "            self.title_embedding(titles),\n",
        "            self.title_text_embedding(titles),\n",
        "        ], axis=1)\n",
        "\n",
        "class CandidateModel(tf.keras.Model):\n",
        "\n",
        "    def __init__(self, layer_sizes):\n",
        "        super().__init__()\n",
        "\n",
        "        self.embedding_model = MovieModel()\n",
        "\n",
        "        self.dense_layers = tf.keras.Sequential()\n",
        "\n",
        "        for layer_size in layer_sizes[:-1]:\n",
        "            self.dense_layers.add(tf.keras.layers.Dense(layer_size, activation=\"relu\"))\n",
        "\n",
        "        for layer_size in layer_sizes[-1:]:\n",
        "            self.dense_layers.add(tf.keras.layers.Dense(layer_size))\n",
        "\n",
        "    def call(self, inputs):\n",
        "        feature_embedding = self.embedding_model(inputs)\n",
        "        return self.dense_layers(feature_embedding)"
      ],
      "metadata": {
        "id": "vvTKqwzmtp-L"
      },
      "execution_count": 9,
      "outputs": []
    },
    {
      "cell_type": "markdown",
      "source": [
        "### Combined Model"
      ],
      "metadata": {
        "id": "6q2HJn1Qw-nI"
      }
    },
    {
      "cell_type": "code",
      "source": [
        "class TwoTowerModel(tfrs.models.Model):\n",
        "\n",
        "    def __init__(self, layer_sizes):\n",
        "        super().__init__()\n",
        "\n",
        "        self.query_model = QueryModel(layer_sizes)\n",
        "        self.candidate_model = CandidateModel(layer_sizes)\n",
        "        self.task = tfrs.tasks.Retrieval(\n",
        "            metrics=tfrs.metrics.FactorizedTopK(\n",
        "                candidates=movies.batch(128).map(self.candidate_model),\n",
        "            ),\n",
        "        )\n",
        "\n",
        "    def compute_loss(self, features, training=False):\n",
        "        query_embeddings = self.query_model({\n",
        "            \"user_id\": features[\"user_id\"],\n",
        "            \"timestamp\": features[\"timestamp\"],\n",
        "        })\n",
        "        movie_embeddings = self.candidate_model(features[\"movie_title\"])\n",
        "\n",
        "        return self.task(query_embeddings, movie_embeddings, compute_metrics=not training)"
      ],
      "metadata": {
        "id": "q72bIX7mw4zn"
      },
      "execution_count": 10,
      "outputs": []
    },
    {
      "cell_type": "markdown",
      "source": [
        "## Training"
      ],
      "metadata": {
        "id": "8GBaBcQezDO9"
      }
    },
    {
      "cell_type": "code",
      "source": [
        "tf.random.set_seed(42)\n",
        "\n",
        "shuffled = ratings.shuffle(100000, seed=42, reshuffle_each_iteration=False)\n",
        "train = shuffled.take(80000)\n",
        "test = shuffled.skip(80000).take(20000)\n",
        "\n",
        "cached_train = train.shuffle(100000).batch(2048)\n",
        "cached_test = test.batch(4096).cache()"
      ],
      "metadata": {
        "id": "InYGy8lIyzOo"
      },
      "execution_count": 11,
      "outputs": []
    },
    {
      "cell_type": "code",
      "source": [
        "num_epochs = 300\n",
        "\n",
        "model = TwoTowerModel([64, 32])\n",
        "model.compile(optimizer=tf.keras.optimizers.Adagrad(0.1))\n",
        "\n",
        "history = model.fit(\n",
        "    cached_train,\n",
        "    validation_data = cached_test,\n",
        "    validation_freq=5,\n",
        "    epochs=num_epochs,\n",
        "    verbose=0\n",
        ")"
      ],
      "metadata": {
        "id": "Fxpt58HKzZZo"
      },
      "execution_count": 12,
      "outputs": []
    },
    {
      "cell_type": "code",
      "source": [
        "num_validation_runs = len(history.history[\"val_factorized_top_k/top_100_categorical_accuracy\"])\n",
        "epochs = [(x + 1)* 5 for x in range(num_validation_runs)]\n",
        "\n",
        "plt.plot(epochs, history.history[\"val_factorized_top_k/top_100_categorical_accuracy\"])\n",
        "plt.title(\"Accuracy vs epoch\")\n",
        "plt.xlabel(\"epoch\")\n",
        "plt.ylabel(\"Top-100 accuracy\");\n",
        "plt.legend()"
      ],
      "metadata": {
        "colab": {
          "base_uri": "https://localhost:8080/",
          "height": 537
        },
        "id": "7g-EZjjxz0iD",
        "outputId": "f1b604fa-6881-4203-a19c-b1df533467e8"
      },
      "execution_count": 13,
      "outputs": [
        {
          "output_type": "stream",
          "name": "stderr",
          "text": [
            "<ipython-input-13-00e59b8712f9>:8: UserWarning: No artists with labels found to put in legend.  Note that artists whose label start with an underscore are ignored when legend() is called with no argument.\n",
            "  plt.legend()\n"
          ]
        },
        {
          "output_type": "execute_result",
          "data": {
            "text/plain": [
              "<matplotlib.legend.Legend at 0x7953905b4a10>"
            ]
          },
          "metadata": {},
          "execution_count": 13
        },
        {
          "output_type": "display_data",
          "data": {
            "text/plain": [
              "<Figure size 640x480 with 1 Axes>"
            ],
            "image/png": "[encoded data removed]"
          },
          "metadata": {}
        }
      ]
    },
    {
      "cell_type": "code",
      "source": [],
      "metadata": {
        "id": "mDDpsA_13fvc"
      },
      "execution_count": null,
      "outputs": []
    }
  ]
}