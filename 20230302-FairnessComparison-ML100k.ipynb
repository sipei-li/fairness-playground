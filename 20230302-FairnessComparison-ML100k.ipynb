{
 "cells": [
  {
   "cell_type": "code",
   "execution_count": 1,
   "metadata": {},
   "outputs": [],
   "source": [
    "import numpy as np\n",
    "import pandas as pd\n",
    "from sklearn.feature_extraction.text import TfidfVectorizer\n",
    "from sklearn.decomposition import LatentDirichletAllocation, NMF, TruncatedSVD\n",
    "from sklearn.metrics.pairwise import cosine_similarity\n",
    "from sklearn.neighbors import NearestNeighbors\n",
    "from sklearn.model_selection import train_test_split\n",
    "from itertools import combinations\n",
    "from scipy import sparse\n",
    "from scipy.sparse.linalg import svds\n",
    "\n",
    "import random\n",
    "my_seed = 0\n",
    "random.seed(my_seed)\n",
    "np.random.seed(my_seed)\n",
    "\n",
    "import matplotlib.pyplot as plt"
   ]
  },
  {
   "cell_type": "code",
   "execution_count": 2,
   "metadata": {},
   "outputs": [],
   "source": [
    "import math\n",
    "# ground_truth: list of items ordered by time\n",
    "def nDCG_Time(ground_truth, _recList):\n",
    "    rec_num = len(_recList) # topK\n",
    "    # ground_truth is already sorted by time\n",
    "    idealOrder = ground_truth\n",
    "    idealDCG = 0.0\n",
    "    for j in range(min(rec_num, len(idealOrder))):\n",
    "        idealDCG += ((math.pow(2.0, len(idealOrder) - j) - 1) / math.log(2.0 + j))\n",
    "\n",
    "    recDCG = 0.0\n",
    "    for j in range(rec_num):\n",
    "        item = _recList[j]\n",
    "        if item in ground_truth:\n",
    "            rank = len(ground_truth) - ground_truth.index(item) # why ground truth?\n",
    "            recDCG += ((math.pow(2.0, rank) - 1) / math.log(1.0 + j + 1))\n",
    "\n",
    "    return (recDCG / idealDCG)\n",
    "\n",
    "\n",
    "def Recall(_test_set, _recList):\n",
    "    hit = len(set(_recList).intersection(set(_test_set)))\n",
    "    return hit / float(len(_test_set))\n",
    "\n",
    "\n",
    "def Precision(_test_set, _recList):\n",
    "    hit = len(set(_recList).intersection(set(_test_set)))\n",
    "    return hit / float(len(_recList))"
   ]
  },
  {
   "cell_type": "code",
   "execution_count": 16,
   "metadata": {},
   "outputs": [],
   "source": [
    "ratings = pd.read_csv('ml-100k/udata.csv', header=0, sep=';', encoding='latin-1', engine='python', names=['user_id', 'movie_id', 'rating'])\n",
    "users = pd.read_csv('ml-100k/uuser.csv', header=0, sep=';', encoding='latin-1', engine='python', names=['user_id', 'age', 'gender','occupation', 'zipcode'])"
   ]
  },
  {
   "cell_type": "code",
   "execution_count": 19,
   "metadata": {},
   "outputs": [],
   "source": [
    "ratings['user_id'] = ratings['user_id'] - 1\n",
    "ratings['movie_id'] = ratings['movie_id'] - 1\n",
    "users['user_id'] = users['user_id'] - 1"
   ]
  },
  {
   "cell_type": "code",
   "execution_count": 21,
   "metadata": {},
   "outputs": [
    {
     "name": "stdout",
     "output_type": "stream",
     "text": [
      "Number of female users: 273\n",
      "Number of male users: 670\n"
     ]
    }
   ],
   "source": [
    "f_users = users[users['gender'] == 'F']\n",
    "m_users = users[users['gender'] == 'M']\n",
    "print('Number of female users: {}\\nNumber of male users: {}'.format(f_users.shape[0], m_users.shape[0]))"
   ]
  },
  {
   "cell_type": "code",
   "execution_count": 36,
   "metadata": {},
   "outputs": [],
   "source": [
    "def df_to_mat(df, item_n, user_n, user_id_to_iid):\n",
    "    \"\"\"\n",
    "    Convert DataFrame to sparse matrix.\n",
    "\n",
    "    Arg:\n",
    "        df: DataFrame, ratings dataframe with user_id, movie_id and rating\n",
    "\n",
    "    Return:\n",
    "        mat: scipy.sparse.csr_matrix, sparse ratings matrix with rows being userss and cols being items\n",
    "    \"\"\"\n",
    "    \n",
    "    mat = sparse.lil_matrix((user_n, item_n))\n",
    "    for _, row in df.iterrows():\n",
    "        user_id = int(row[0])\n",
    "        item_id = int(row[1])\n",
    "        user_iid = user_id_to_iid[user_id]\n",
    "        item_iid = item_id\n",
    "        rating = row[2]\n",
    "        mat[user_iid, item_iid] = rating\n",
    "    \n",
    "    return mat "
   ]
  },
  {
   "cell_type": "code",
   "execution_count": 31,
   "metadata": {},
   "outputs": [],
   "source": [
    "def cf_recommend(user_id, topk, user_id_to_iid, known_rating_mat, est_rating_mat):\n",
    "    \n",
    "    user_iid = user_id_to_iid[user_id]\n",
    "    user_ratings = known_rating_mat[user_iid, :]\n",
    "    rated_before = np.nonzero(user_ratings)[1]\n",
    "    estimations = est_rating_mat[user_iid, :].copy()\n",
    "    estimations[rated_before] = 0\n",
    "\n",
    "    top_item_ids = np.argsort(-estimations)[:topk]\n",
    "\n",
    "    return (user_id, np.array(top_item_ids))"
   ]
  },
  {
   "cell_type": "code",
   "execution_count": 25,
   "metadata": {},
   "outputs": [
    {
     "data": {
      "text/plain": [
       "array([  0,   6,   8,  14,  21,  24,  27,  49,  55,  63,  68,  78,  95,\n",
       "        97,  99, 116, 117, 120, 126, 150, 167, 171, 172, 173, 175, 180,\n",
       "       182, 194, 201, 203, 209, 215, 221, 233, 236, 256, 257, 268, 275,\n",
       "       285, 287, 293, 299, 301, 312, 317, 327, 404, 422, 747], dtype=int64)"
      ]
     },
     "execution_count": 25,
     "metadata": {},
     "output_type": "execute_result"
    }
   ],
   "source": [
    "# find the top 50 most popular movies\n",
    "top_movie_ids = ratings.movie_id.value_counts().iloc[:50].index.to_numpy()\n",
    "top_movie_ids.sort()\n",
    "top_movie_ids"
   ]
  },
  {
   "cell_type": "code",
   "execution_count": 47,
   "metadata": {},
   "outputs": [],
   "source": [
    "# randomly sample 200 female users for experiment, fixed\n",
    "f_user_ids = f_users.sample(200)['user_id'].to_numpy()"
   ]
  },
  {
   "cell_type": "code",
   "execution_count": 57,
   "metadata": {},
   "outputs": [],
   "source": [
    "# for each of the 200 sampled female user, randomly select 2 movies (in the top 50) for testing\n",
    "test_movie_ids = {}\n",
    "for id in f_user_ids:\n",
    "    rated_movie_ids = ratings[ratings['user_id'] == id]['movie_id'].to_numpy()\n",
    "    rated_top_movie_ids = [i for i in rated_movie_ids if i in top_movie_ids]\n",
    "    if len(rated_top_movie_ids) < 2:\n",
    "        continue \n",
    "    else:\n",
    "        test_movies = random.sample(rated_top_movie_ids, 2)\n",
    "        test_movie_ids[id] = test_movies"
   ]
  },
  {
   "cell_type": "code",
   "execution_count": 60,
   "metadata": {},
   "outputs": [],
   "source": [
    "# get the female users' ratings for top 50 movies\n",
    "f_top_ratings = ratings[ratings.user_id.isin(f_user_ids) & ratings.movie_id.isin(top_movie_ids)]"
   ]
  },
  {
   "cell_type": "code",
   "execution_count": 61,
   "metadata": {},
   "outputs": [],
   "source": [
    "f_real_top_ratings = f_top_ratings.groupby('movie_id')['rating'].mean()"
   ]
  },
  {
   "cell_type": "code",
   "execution_count": 67,
   "metadata": {},
   "outputs": [],
   "source": [
    "n_male = 200\n",
    "m_user_ids = m_users.sample(n_male)['user_id'].to_numpy()\n",
    "\n",
    "sampled_ratings = ratings[(ratings['user_id'].isin(f_user_ids)) | (ratings['user_id'].isin(m_user_ids))]\n",
    "sampled_user_ids = sampled_ratings['user_id'].unique()\n",
    "user_id_to_iid = {sampled_user_ids[i]:i for i in range(len(sampled_user_ids))}\n",
    "user_iid_to_id = {i:sampled_user_ids[i] for i in range(len(sampled_user_ids))}\n",
    "\n",
    "user_n = sampled_ratings['user_id'].nunique()\n",
    "item_n = ratings['movie_id'].nunique()\n",
    "\n",
    "test_df = []\n",
    "train_df = []\n",
    "for _, row in sampled_ratings.iterrows():\n",
    "    user_id = row[0]\n",
    "    movie_id = row[1]\n",
    "    if user_id not in f_user_ids:\n",
    "        train_df.append(row)\n",
    "    else:\n",
    "        if movie_id in test_movie_ids[user_id]:\n",
    "            test_df.append(row)\n",
    "        else:\n",
    "            train_df.append(row)\n",
    "test_df = pd.DataFrame(test_df)\n",
    "train_df = pd.DataFrame(train_df)\n",
    "\n",
    "known_rating_mat = df_to_mat(train_df, item_n, user_n, user_id_to_iid)\n",
    "\n",
    "mf = TruncatedSVD(n_components=100, algorithm='arpack', tol=0.0)\n",
    "user_f = mf.fit_transform(known_rating_mat)\n",
    "item_f = mf.components_.T\n",
    "est_rating_mat = np.dot(user_f, item_f.T)\n",
    "\n",
    "est_ratings = []\n",
    "for _, row in test_df.iterrows():\n",
    "    user_id = row[0]\n",
    "    movie_id = row[1]\n",
    "\n",
    "    user_iid = user_id_to_iid[user_id]\n",
    "    movie_iid = movie_id\n",
    "\n",
    "    est = est_rating_mat[user_iid, movie_iid]\n",
    "    est_ratings.append(est)\n",
    "test_df['est'] = np.array(est_ratings)\n",
    "\n",
    "f_est_top_ratings_1 = test_df.groupby('movie_id')['est'].mean()"
   ]
  },
  {
   "cell_type": "code",
   "execution_count": 70,
   "metadata": {},
   "outputs": [
    {
     "data": {
      "text/plain": [
       "movie_id\n",
       "0      0.470968\n",
       "8      0.126318\n",
       "14     0.274733\n",
       "49     1.051776\n",
       "99     0.200037\n",
       "117    0.581891\n",
       "120    0.787269\n",
       "180    0.630663\n",
       "236    0.716875\n",
       "256    0.496458\n",
       "268    0.154312\n",
       "285    0.588584\n",
       "299    0.962110\n",
       "Name: est, dtype: float64"
      ]
     },
     "execution_count": 70,
     "metadata": {},
     "output_type": "execute_result"
    }
   ],
   "source": [
    "f_est_top_ratings_1"
   ]
  },
  {
   "cell_type": "code",
   "execution_count": 45,
   "metadata": {},
   "outputs": [
    {
     "data": {
      "text/plain": [
       "4.54547969786116"
      ]
     },
     "execution_count": 45,
     "metadata": {},
     "output_type": "execute_result"
    }
   ],
   "source": [
    "est_rating_mat[2,0]"
   ]
  },
  {
   "cell_type": "code",
   "execution_count": 46,
   "metadata": {},
   "outputs": [
    {
     "data": {
      "text/plain": [
       "4.0"
      ]
     },
     "execution_count": 46,
     "metadata": {},
     "output_type": "execute_result"
    }
   ],
   "source": [
    "known_rating_mat[2,0]"
   ]
  },
  {
   "cell_type": "code",
   "execution_count": 40,
   "metadata": {},
   "outputs": [
    {
     "name": "stderr",
     "output_type": "stream",
     "text": [
      "C:\\Users\\sky_l\\AppData\\Local\\Temp\\ipykernel_14332\\4145647758.py:32: SettingWithCopyWarning: \n",
      "A value is trying to be set on a copy of a slice from a DataFrame.\n",
      "Try using .loc[row_indexer,col_indexer] = value instead\n",
      "\n",
      "See the caveats in the documentation: https://pandas.pydata.org/pandas-docs/stable/user_guide/indexing.html#returning-a-view-versus-a-copy\n",
      "  test_df['est'] = np.array(est_ratings)\n"
     ]
    }
   ],
   "source": [
    "n_male = 100\n",
    "m_user_ids = m_users.sample(n_male)['user_id'].to_numpy()\n",
    "\n",
    "sampled_ratings = ratings[(ratings['user_id'].isin(f_user_ids)) | (ratings['user_id'].isin(m_user_ids))]\n",
    "sampled_user_ids = sampled_ratings['user_id'].unique()\n",
    "user_id_to_iid = {sampled_user_ids[i]:i for i in range(len(sampled_user_ids))}\n",
    "user_iid_to_id = {i:sampled_user_ids[i] for i in range(len(sampled_user_ids))}\n",
    "\n",
    "user_n = sampled_ratings['user_id'].nunique()\n",
    "item_n = ratings['movie_id'].nunique()\n",
    "\n",
    "test_df = sampled_ratings[(sampled_ratings['movie_id'].isin(top_movie_ids)) & (sampled_ratings['user_id'].isin(f_user_ids))]\n",
    "train_df = sampled_ratings[~((sampled_ratings['movie_id'].isin(top_movie_ids)) & (sampled_ratings['user_id'].isin(f_user_ids)))]\n",
    "\n",
    "known_rating_mat = df_to_mat(train_df, item_n, user_n, user_id_to_iid)\n",
    "\n",
    "mf = TruncatedSVD(n_components=100, algorithm='arpack', tol=0.0)\n",
    "user_f = mf.fit_transform(known_rating_mat)\n",
    "item_f = mf.components_.T\n",
    "est_rating_mat = np.dot(user_f, item_f.T)\n",
    "\n",
    "est_ratings = []\n",
    "for _, row in test_df.iterrows():\n",
    "    user_id = row[0]\n",
    "    movie_id = row[1]\n",
    "\n",
    "    user_iid = user_id_to_iid[user_id]\n",
    "    movie_iid = movie_id\n",
    "\n",
    "    est = est_rating_mat[user_iid, movie_iid]\n",
    "    est_ratings.append(est)\n",
    "test_df['est'] = np.array(est_ratings)\n",
    "\n",
    "f_est_top_ratings_2 = test_df.groupby('movie_id')['est'].mean()"
   ]
  },
  {
   "cell_type": "code",
   "execution_count": 41,
   "metadata": {},
   "outputs": [
    {
     "name": "stderr",
     "output_type": "stream",
     "text": [
      "C:\\Users\\sky_l\\AppData\\Local\\Temp\\ipykernel_14332\\3483117660.py:32: SettingWithCopyWarning: \n",
      "A value is trying to be set on a copy of a slice from a DataFrame.\n",
      "Try using .loc[row_indexer,col_indexer] = value instead\n",
      "\n",
      "See the caveats in the documentation: https://pandas.pydata.org/pandas-docs/stable/user_guide/indexing.html#returning-a-view-versus-a-copy\n",
      "  test_df['est'] = np.array(est_ratings)\n"
     ]
    }
   ],
   "source": [
    "n_male = 400\n",
    "m_user_ids = m_users.sample(n_male)['user_id'].to_numpy()\n",
    "\n",
    "sampled_ratings = ratings[(ratings['user_id'].isin(f_user_ids)) | (ratings['user_id'].isin(m_user_ids))]\n",
    "sampled_user_ids = sampled_ratings['user_id'].unique()\n",
    "user_id_to_iid = {sampled_user_ids[i]:i for i in range(len(sampled_user_ids))}\n",
    "user_iid_to_id = {i:sampled_user_ids[i] for i in range(len(sampled_user_ids))}\n",
    "\n",
    "user_n = sampled_ratings['user_id'].nunique()\n",
    "item_n = ratings['movie_id'].nunique()\n",
    "\n",
    "test_df = sampled_ratings[(sampled_ratings['movie_id'].isin(top_movie_ids)) & (sampled_ratings['user_id'].isin(f_user_ids))]\n",
    "train_df = sampled_ratings[~((sampled_ratings['movie_id'].isin(top_movie_ids)) & (sampled_ratings['user_id'].isin(f_user_ids)))]\n",
    "\n",
    "known_rating_mat = df_to_mat(train_df, item_n, user_n, user_id_to_iid)\n",
    "\n",
    "mf = TruncatedSVD(n_components=100, algorithm='arpack', tol=0.0)\n",
    "user_f = mf.fit_transform(known_rating_mat)\n",
    "item_f = mf.components_.T\n",
    "est_rating_mat = np.dot(user_f, item_f.T)\n",
    "\n",
    "est_ratings = []\n",
    "for _, row in test_df.iterrows():\n",
    "    user_id = row[0]\n",
    "    movie_id = row[1]\n",
    "\n",
    "    user_iid = user_id_to_iid[user_id]\n",
    "    movie_iid = movie_id\n",
    "\n",
    "    est = est_rating_mat[user_iid, movie_iid]\n",
    "    est_ratings.append(est)\n",
    "test_df['est'] = np.array(est_ratings)\n",
    "\n",
    "f_est_top_ratings_3 = test_df.groupby('movie_id')['est'].mean()"
   ]
  },
  {
   "cell_type": "code",
   "execution_count": 69,
   "metadata": {},
   "outputs": [
    {
     "ename": "ValueError",
     "evalue": "x and y must be the same size",
     "output_type": "error",
     "traceback": [
      "\u001b[1;31m---------------------------------------------------------------------------\u001b[0m",
      "\u001b[1;31mValueError\u001b[0m                                Traceback (most recent call last)",
      "Cell \u001b[1;32mIn [69], line 4\u001b[0m\n\u001b[0;32m      2\u001b[0m ax\u001b[39m.\u001b[39mscatter(np\u001b[39m.\u001b[39marange(\u001b[39m50\u001b[39m)\u001b[39m+\u001b[39m\u001b[39m1\u001b[39m, f_real_top_ratings, c\u001b[39m=\u001b[39m\u001b[39m'\u001b[39m\u001b[39mk\u001b[39m\u001b[39m'\u001b[39m, label\u001b[39m=\u001b[39m\u001b[39m'\u001b[39m\u001b[39mTrue average rating\u001b[39m\u001b[39m'\u001b[39m)\n\u001b[0;32m      3\u001b[0m ax\u001b[39m.\u001b[39mscatter(np\u001b[39m.\u001b[39marange(\u001b[39m50\u001b[39m)\u001b[39m+\u001b[39m\u001b[39m1\u001b[39m, f_est_top_ratings_2, c\u001b[39m=\u001b[39m\u001b[39m'\u001b[39m\u001b[39my\u001b[39m\u001b[39m'\u001b[39m, label\u001b[39m=\u001b[39m\u001b[39m'\u001b[39m\u001b[39mInfluenced by 25 male\u001b[39m\u001b[39m'\u001b[39m)\n\u001b[1;32m----> 4\u001b[0m ax\u001b[39m.\u001b[39;49mscatter(np\u001b[39m.\u001b[39;49marange(\u001b[39m50\u001b[39;49m)\u001b[39m+\u001b[39;49m\u001b[39m1\u001b[39;49m, f_est_top_ratings_1, c\u001b[39m=\u001b[39;49m\u001b[39m'\u001b[39;49m\u001b[39mg\u001b[39;49m\u001b[39m'\u001b[39;49m, label\u001b[39m=\u001b[39;49m\u001b[39m'\u001b[39;49m\u001b[39mInfluenced by 100 male\u001b[39;49m\u001b[39m'\u001b[39;49m)\n\u001b[0;32m      5\u001b[0m ax\u001b[39m.\u001b[39mscatter(np\u001b[39m.\u001b[39marange(\u001b[39m50\u001b[39m)\u001b[39m+\u001b[39m\u001b[39m1\u001b[39m, f_est_top_ratings_3, c\u001b[39m=\u001b[39m\u001b[39m'\u001b[39m\u001b[39mm\u001b[39m\u001b[39m'\u001b[39m, label\u001b[39m=\u001b[39m\u001b[39m'\u001b[39m\u001b[39mInfluenced by 400 male\u001b[39m\u001b[39m'\u001b[39m)\n\u001b[0;32m      6\u001b[0m legend \u001b[39m=\u001b[39m ax\u001b[39m.\u001b[39mlegend(loc\u001b[39m=\u001b[39m\u001b[39m'\u001b[39m\u001b[39mupper right\u001b[39m\u001b[39m'\u001b[39m)\n",
      "File \u001b[1;32mc:\\Programs\\Anaconda3\\envs\\active-learning\\lib\\site-packages\\matplotlib\\__init__.py:1423\u001b[0m, in \u001b[0;36m_preprocess_data.<locals>.inner\u001b[1;34m(ax, data, *args, **kwargs)\u001b[0m\n\u001b[0;32m   1420\u001b[0m \u001b[39m@functools\u001b[39m\u001b[39m.\u001b[39mwraps(func)\n\u001b[0;32m   1421\u001b[0m \u001b[39mdef\u001b[39;00m \u001b[39minner\u001b[39m(ax, \u001b[39m*\u001b[39margs, data\u001b[39m=\u001b[39m\u001b[39mNone\u001b[39;00m, \u001b[39m*\u001b[39m\u001b[39m*\u001b[39mkwargs):\n\u001b[0;32m   1422\u001b[0m     \u001b[39mif\u001b[39;00m data \u001b[39mis\u001b[39;00m \u001b[39mNone\u001b[39;00m:\n\u001b[1;32m-> 1423\u001b[0m         \u001b[39mreturn\u001b[39;00m func(ax, \u001b[39m*\u001b[39;49m\u001b[39mmap\u001b[39;49m(sanitize_sequence, args), \u001b[39m*\u001b[39;49m\u001b[39m*\u001b[39;49mkwargs)\n\u001b[0;32m   1425\u001b[0m     bound \u001b[39m=\u001b[39m new_sig\u001b[39m.\u001b[39mbind(ax, \u001b[39m*\u001b[39margs, \u001b[39m*\u001b[39m\u001b[39m*\u001b[39mkwargs)\n\u001b[0;32m   1426\u001b[0m     auto_label \u001b[39m=\u001b[39m (bound\u001b[39m.\u001b[39marguments\u001b[39m.\u001b[39mget(label_namer)\n\u001b[0;32m   1427\u001b[0m                   \u001b[39mor\u001b[39;00m bound\u001b[39m.\u001b[39mkwargs\u001b[39m.\u001b[39mget(label_namer))\n",
      "File \u001b[1;32mc:\\Programs\\Anaconda3\\envs\\active-learning\\lib\\site-packages\\matplotlib\\axes\\_axes.py:4512\u001b[0m, in \u001b[0;36mAxes.scatter\u001b[1;34m(self, x, y, s, c, marker, cmap, norm, vmin, vmax, alpha, linewidths, edgecolors, plotnonfinite, **kwargs)\u001b[0m\n\u001b[0;32m   4510\u001b[0m y \u001b[39m=\u001b[39m np\u001b[39m.\u001b[39mma\u001b[39m.\u001b[39mravel(y)\n\u001b[0;32m   4511\u001b[0m \u001b[39mif\u001b[39;00m x\u001b[39m.\u001b[39msize \u001b[39m!=\u001b[39m y\u001b[39m.\u001b[39msize:\n\u001b[1;32m-> 4512\u001b[0m     \u001b[39mraise\u001b[39;00m \u001b[39mValueError\u001b[39;00m(\u001b[39m\"\u001b[39m\u001b[39mx and y must be the same size\u001b[39m\u001b[39m\"\u001b[39m)\n\u001b[0;32m   4514\u001b[0m \u001b[39mif\u001b[39;00m s \u001b[39mis\u001b[39;00m \u001b[39mNone\u001b[39;00m:\n\u001b[0;32m   4515\u001b[0m     s \u001b[39m=\u001b[39m (\u001b[39m20\u001b[39m \u001b[39mif\u001b[39;00m mpl\u001b[39m.\u001b[39mrcParams[\u001b[39m'\u001b[39m\u001b[39m_internal.classic_mode\u001b[39m\u001b[39m'\u001b[39m] \u001b[39melse\u001b[39;00m\n\u001b[0;32m   4516\u001b[0m          mpl\u001b[39m.\u001b[39mrcParams[\u001b[39m'\u001b[39m\u001b[39mlines.markersize\u001b[39m\u001b[39m'\u001b[39m] \u001b[39m*\u001b[39m\u001b[39m*\u001b[39m \u001b[39m2.0\u001b[39m)\n",
      "\u001b[1;31mValueError\u001b[0m: x and y must be the same size"
     ]
    },
    {
     "data": {
      "image/png": "[encoded data removed]",
      "text/plain": [
       "<Figure size 640x480 with 1 Axes>"
      ]
     },
     "metadata": {},
     "output_type": "display_data"
    }
   ],
   "source": [
    "fig, ax = plt.subplots()\n",
    "ax.scatter(np.arange(50)+1, f_real_top_ratings, c='k', label='True average rating')\n",
    "ax.scatter(np.arange(50)+1, f_est_top_ratings_2, c='y', label='Influenced by 25 male')\n",
    "ax.scatter(np.arange(50)+1, f_est_top_ratings_1, c='g', label='Influenced by 100 male')\n",
    "ax.scatter(np.arange(50)+1, f_est_top_ratings_3, c='m', label='Influenced by 400 male')\n",
    "legend = ax.legend(loc='upper right')\n",
    "ax.set_xlim([1,50])\n",
    "ax.set_ylim([0,6])\n",
    "ax.set_xlabel('Top 50 movies')\n",
    "ax.set_ylabel('Rating')\n",
    "plt.title('The influence of number of male users on the female rating estimations')\n",
    "plt.show()"
   ]
  },
  {
   "cell_type": "code",
   "execution_count": null,
   "metadata": {},
   "outputs": [],
   "source": []
  }
 ],
 "metadata": {
  "kernelspec": {
   "display_name": "Python 3",
   "language": "python",
   "name": "python3"
  },
  "language_info": {
   "codemirror_mode": {
    "name": "ipython",
    "version": 3
   },
   "file_extension": ".py",
   "mimetype": "text/x-python",
   "name": "python",
   "nbconvert_exporter": "python",
   "pygments_lexer": "ipython3",
   "version": "3.8.13"
  },
  "orig_nbformat": 4,
  "vscode": {
   "interpreter": {
    "hash": "f96e607b91a2e2d3251db7ddf844b8ed38c6c958a32172526e41c91f117aef26"
   }
  }
 },
 "nbformat": 4,
 "nbformat_minor": 2
}
