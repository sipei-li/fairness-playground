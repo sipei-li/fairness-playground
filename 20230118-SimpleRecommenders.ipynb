{
 "cells": [
  {
   "cell_type": "code",
   "execution_count": 1,
   "metadata": {},
   "outputs": [],
   "source": [
    "import numpy as np\n",
    "import pandas as pd\n",
    "from sklearn.feature_extraction.text import TfidfVectorizer\n",
    "from sklearn.decomposition import LatentDirichletAllocation, NMF\n",
    "from sklearn.metrics.pairwise import cosine_similarity\n",
    "from sklearn.neighbors import NearestNeighbors\n",
    "from sklearn.model_selection import train_test_split\n",
    "from itertools import combinations\n",
    "from scipy import sparse\n",
    "\n",
    "import random\n",
    "my_seed = 0\n",
    "random.seed(my_seed)\n",
    "np.random.seed(my_seed)\n",
    "\n",
    "import matplotlib.pyplot as plt"
   ]
  },
  {
   "attachments": {},
   "cell_type": "markdown",
   "metadata": {},
   "source": [
    "## Data Preprocessing"
   ]
  },
  {
   "cell_type": "code",
   "execution_count": 2,
   "metadata": {},
   "outputs": [],
   "source": [
    "ratings = pd.read_csv('ml-1m/ratings.dat', header=None, sep='::', \n",
    "                      encoding='latin-1', engine='python', \n",
    "                      names=['user_id', 'movie_id', 'rating', 'timestamp'])\n",
    "users = pd.read_csv('ml-1m/users.dat', header=None, sep='::',\n",
    "                    encoding='latin-1', engine='python',\n",
    "                    names=['user_id', 'gender', 'age', 'occupation', 'zipcode'])\n",
    "movies = pd.read_csv('ml-1m/movies.dat', header=None, sep='::',\n",
    "                     encoding='latin-1', engine='python',\n",
    "                     names=['movie_id', 'title', 'genres'])"
   ]
  },
  {
   "cell_type": "code",
   "execution_count": 3,
   "metadata": {},
   "outputs": [],
   "source": [
    "ratings['user_id'] = ratings['user_id'] - 1\n",
    "ratings['movie_id'] = ratings['movie_id'] - 1\n",
    "users['user_id'] = users['user_id'] - 1\n",
    "movies['movie_id'] = movies['movie_id'] - 1"
   ]
  },
  {
   "cell_type": "code",
   "execution_count": 4,
   "metadata": {},
   "outputs": [
    {
     "data": {
      "text/html": [
       "<div>\n",
       "<style scoped>\n",
       "    .dataframe tbody tr th:only-of-type {\n",
       "        vertical-align: middle;\n",
       "    }\n",
       "\n",
       "    .dataframe tbody tr th {\n",
       "        vertical-align: top;\n",
       "    }\n",
       "\n",
       "    .dataframe thead th {\n",
       "        text-align: right;\n",
       "    }\n",
       "</style>\n",
       "<table border=\"1\" class=\"dataframe\">\n",
       "  <thead>\n",
       "    <tr style=\"text-align: right;\">\n",
       "      <th></th>\n",
       "      <th>user_id</th>\n",
       "      <th>movie_id</th>\n",
       "      <th>rating</th>\n",
       "      <th>timestamp</th>\n",
       "    </tr>\n",
       "  </thead>\n",
       "  <tbody>\n",
       "    <tr>\n",
       "      <th>0</th>\n",
       "      <td>0</td>\n",
       "      <td>1192</td>\n",
       "      <td>5</td>\n",
       "      <td>978300760</td>\n",
       "    </tr>\n",
       "    <tr>\n",
       "      <th>1</th>\n",
       "      <td>0</td>\n",
       "      <td>660</td>\n",
       "      <td>3</td>\n",
       "      <td>978302109</td>\n",
       "    </tr>\n",
       "    <tr>\n",
       "      <th>2</th>\n",
       "      <td>0</td>\n",
       "      <td>913</td>\n",
       "      <td>3</td>\n",
       "      <td>978301968</td>\n",
       "    </tr>\n",
       "    <tr>\n",
       "      <th>3</th>\n",
       "      <td>0</td>\n",
       "      <td>3407</td>\n",
       "      <td>4</td>\n",
       "      <td>978300275</td>\n",
       "    </tr>\n",
       "    <tr>\n",
       "      <th>4</th>\n",
       "      <td>0</td>\n",
       "      <td>2354</td>\n",
       "      <td>5</td>\n",
       "      <td>978824291</td>\n",
       "    </tr>\n",
       "  </tbody>\n",
       "</table>\n",
       "</div>"
      ],
      "text/plain": [
       "   user_id  movie_id  rating  timestamp\n",
       "0        0      1192       5  978300760\n",
       "1        0       660       3  978302109\n",
       "2        0       913       3  978301968\n",
       "3        0      3407       4  978300275\n",
       "4        0      2354       5  978824291"
      ]
     },
     "execution_count": 4,
     "metadata": {},
     "output_type": "execute_result"
    }
   ],
   "source": [
    "ratings.head()"
   ]
  },
  {
   "cell_type": "code",
   "execution_count": 5,
   "metadata": {},
   "outputs": [
    {
     "data": {
      "text/plain": [
       "(1000209, 4)"
      ]
     },
     "execution_count": 5,
     "metadata": {},
     "output_type": "execute_result"
    }
   ],
   "source": [
    "ratings.shape"
   ]
  },
  {
   "cell_type": "code",
   "execution_count": 6,
   "metadata": {},
   "outputs": [
    {
     "name": "stdout",
     "output_type": "stream",
     "text": [
      "Number of users: 6040\n",
      "Number of items: 3883\n"
     ]
    }
   ],
   "source": [
    "user_n = ratings['user_id'].nunique()\n",
    "item_n = movies['movie_id'].nunique()\n",
    "print(\"Number of users: {}\".format(user_n))\n",
    "print(\"Number of items: {}\".format(item_n))"
   ]
  },
  {
   "cell_type": "code",
   "execution_count": 7,
   "metadata": {},
   "outputs": [],
   "source": [
    "id_to_iid = {movies['movie_id'][i]:i for i in movies.index}\n",
    "iid_to_id = {i:movies['movie_id'][i] for i in movies.index}\n"
   ]
  },
  {
   "attachments": {},
   "cell_type": "markdown",
   "metadata": {},
   "source": [
    "**Genre popularity**"
   ]
  },
  {
   "cell_type": "code",
   "execution_count": 8,
   "metadata": {},
   "outputs": [
    {
     "data": {
      "text/plain": [
       "Drama          1603\n",
       "Comedy         1200\n",
       "Action          503\n",
       "Thriller        492\n",
       "Romance         471\n",
       "Horror          343\n",
       "Adventure       283\n",
       "Sci-Fi          276\n",
       "Children's      251\n",
       "Crime           211\n",
       "War             143\n",
       "Documentary     127\n",
       "Musical         114\n",
       "Mystery         106\n",
       "Animation       105\n",
       "Fantasy          68\n",
       "Western          68\n",
       "Film-Noir        44\n",
       "Name: genres, dtype: int64"
      ]
     },
     "execution_count": 8,
     "metadata": {},
     "output_type": "execute_result"
    }
   ],
   "source": [
    "movies.genres.str.split('|').explode().value_counts().sort_values(ascending=False)"
   ]
  },
  {
   "attachments": {},
   "cell_type": "markdown",
   "metadata": {},
   "source": [
    "## Extract Movie Feature Vectors From Genre Information\n",
    "\n",
    "Use tf-idf, a weighted frequecy, of each genre word as a feature."
   ]
  },
  {
   "cell_type": "code",
   "execution_count": 9,
   "metadata": {},
   "outputs": [],
   "source": [
    "tf =  TfidfVectorizer(analyzer=lambda x: (c for i in range(1, 4) for c in combinations(x.split('|'), r=i)))"
   ]
  },
  {
   "attachments": {},
   "cell_type": "markdown",
   "metadata": {},
   "source": [
    "This vectorizer transforms a movie's genre description into a list of tokens, where each token is a subsequence of the genres."
   ]
  },
  {
   "cell_type": "code",
   "execution_count": 10,
   "metadata": {},
   "outputs": [
    {
     "data": {
      "text/plain": [
       "[('Action',),\n",
       " ('Crime',),\n",
       " ('Drama',),\n",
       " ('Action', 'Crime'),\n",
       " ('Action', 'Drama'),\n",
       " ('Crime', 'Drama'),\n",
       " ('Action', 'Crime', 'Drama')]"
      ]
     },
     "execution_count": 10,
     "metadata": {},
     "output_type": "execute_result"
    }
   ],
   "source": [
    "analyzer = tf.build_analyzer()\n",
    "[token for token in analyzer('Action|Crime|Drama')]"
   ]
  },
  {
   "attachments": {},
   "cell_type": "markdown",
   "metadata": {},
   "source": [
    "Get the weighted frequency of each token and form the feature vector of this movie."
   ]
  },
  {
   "cell_type": "code",
   "execution_count": 11,
   "metadata": {},
   "outputs": [
    {
     "data": {
      "text/plain": [
       "(3883, 353)"
      ]
     },
     "execution_count": 11,
     "metadata": {},
     "output_type": "execute_result"
    }
   ],
   "source": [
    "X_tfidf = tf.fit_transform(movies['genres'])\n",
    "X_tfidf.shape"
   ]
  },
  {
   "attachments": {},
   "cell_type": "markdown",
   "metadata": {},
   "source": [
    "3883 movies, each has a feature vector of length 353 (which is the number of combinations of all the possible genres). Some of the movies are not in the dataset.\n",
    "\n",
    "## Similarity "
   ]
  },
  {
   "cell_type": "code",
   "execution_count": 12,
   "metadata": {},
   "outputs": [],
   "source": [
    "sim = cosine_similarity(X_tfidf)"
   ]
  },
  {
   "cell_type": "code",
   "execution_count": 13,
   "metadata": {},
   "outputs": [
    {
     "data": {
      "text/html": [
       "<div>\n",
       "<style scoped>\n",
       "    .dataframe tbody tr th:only-of-type {\n",
       "        vertical-align: middle;\n",
       "    }\n",
       "\n",
       "    .dataframe tbody tr th {\n",
       "        vertical-align: top;\n",
       "    }\n",
       "\n",
       "    .dataframe thead th {\n",
       "        text-align: right;\n",
       "    }\n",
       "</style>\n",
       "<table border=\"1\" class=\"dataframe\">\n",
       "  <thead>\n",
       "    <tr style=\"text-align: right;\">\n",
       "      <th>title</th>\n",
       "      <th>Edge, The (1997)</th>\n",
       "      <th>Metroland (1997)</th>\n",
       "      <th>Man with the Golden Gun, The (1974)</th>\n",
       "      <th>From the Journals of Jean Seberg (1995)</th>\n",
       "      <th>Newsies (1992)</th>\n",
       "    </tr>\n",
       "    <tr>\n",
       "      <th>title</th>\n",
       "      <th></th>\n",
       "      <th></th>\n",
       "      <th></th>\n",
       "      <th></th>\n",
       "      <th></th>\n",
       "    </tr>\n",
       "  </thead>\n",
       "  <tbody>\n",
       "    <tr>\n",
       "      <th>Six Degrees of Separation (1993)</th>\n",
       "      <td>0.00</td>\n",
       "      <td>0.39</td>\n",
       "      <td>0.0</td>\n",
       "      <td>0.0</td>\n",
       "      <td>0.0</td>\n",
       "    </tr>\n",
       "    <tr>\n",
       "      <th>Under the Rainbow (1981)</th>\n",
       "      <td>0.00</td>\n",
       "      <td>0.45</td>\n",
       "      <td>0.0</td>\n",
       "      <td>0.0</td>\n",
       "      <td>0.0</td>\n",
       "    </tr>\n",
       "    <tr>\n",
       "      <th>Relic, The (1997)</th>\n",
       "      <td>0.00</td>\n",
       "      <td>0.00</td>\n",
       "      <td>0.0</td>\n",
       "      <td>0.0</td>\n",
       "      <td>0.0</td>\n",
       "    </tr>\n",
       "    <tr>\n",
       "      <th>Dead Calm (1989)</th>\n",
       "      <td>0.41</td>\n",
       "      <td>0.00</td>\n",
       "      <td>0.0</td>\n",
       "      <td>0.0</td>\n",
       "      <td>0.0</td>\n",
       "    </tr>\n",
       "    <tr>\n",
       "      <th>Steel Magnolias (1989)</th>\n",
       "      <td>0.00</td>\n",
       "      <td>0.39</td>\n",
       "      <td>0.0</td>\n",
       "      <td>0.0</td>\n",
       "      <td>0.0</td>\n",
       "    </tr>\n",
       "  </tbody>\n",
       "</table>\n",
       "</div>"
      ],
      "text/plain": [
       "title                             Edge, The (1997)  Metroland (1997)  \\\n",
       "title                                                                  \n",
       "Six Degrees of Separation (1993)              0.00              0.39   \n",
       "Under the Rainbow (1981)                      0.00              0.45   \n",
       "Relic, The (1997)                             0.00              0.00   \n",
       "Dead Calm (1989)                              0.41              0.00   \n",
       "Steel Magnolias (1989)                        0.00              0.39   \n",
       "\n",
       "title                             Man with the Golden Gun, The (1974)  \\\n",
       "title                                                                   \n",
       "Six Degrees of Separation (1993)                                  0.0   \n",
       "Under the Rainbow (1981)                                          0.0   \n",
       "Relic, The (1997)                                                 0.0   \n",
       "Dead Calm (1989)                                                  0.0   \n",
       "Steel Magnolias (1989)                                            0.0   \n",
       "\n",
       "title                             From the Journals of Jean Seberg (1995)  \\\n",
       "title                                                                       \n",
       "Six Degrees of Separation (1993)                                      0.0   \n",
       "Under the Rainbow (1981)                                              0.0   \n",
       "Relic, The (1997)                                                     0.0   \n",
       "Dead Calm (1989)                                                      0.0   \n",
       "Steel Magnolias (1989)                                                0.0   \n",
       "\n",
       "title                             Newsies (1992)  \n",
       "title                                             \n",
       "Six Degrees of Separation (1993)             0.0  \n",
       "Under the Rainbow (1981)                     0.0  \n",
       "Relic, The (1997)                            0.0  \n",
       "Dead Calm (1989)                             0.0  \n",
       "Steel Magnolias (1989)                       0.0  "
      ]
     },
     "execution_count": 13,
     "metadata": {},
     "output_type": "execute_result"
    }
   ],
   "source": [
    "sim_df = pd.DataFrame(sim, index=movies['title'], columns=movies['title'])\n",
    "sim_df.sample(5, axis=0).sample(5, axis=1).round(2)"
   ]
  },
  {
   "attachments": {},
   "cell_type": "markdown",
   "metadata": {},
   "source": [
    "## Content-based Filtering"
   ]
  },
  {
   "cell_type": "code",
   "execution_count": 14,
   "metadata": {},
   "outputs": [],
   "source": [
    "train_df, test_df = train_test_split(ratings, test_size=0.2)"
   ]
  },
  {
   "cell_type": "code",
   "execution_count": 15,
   "metadata": {},
   "outputs": [
    {
     "data": {
      "text/plain": [
       "(800167, 4)"
      ]
     },
     "execution_count": 15,
     "metadata": {},
     "output_type": "execute_result"
    }
   ],
   "source": [
    "train_df.shape"
   ]
  },
  {
   "cell_type": "code",
   "execution_count": 16,
   "metadata": {},
   "outputs": [],
   "source": [
    "def df_to_mat(df):\n",
    "    \"\"\"\n",
    "    Convert DataFrame to sparse matrix.\n",
    "\n",
    "    Arg:\n",
    "        df: DataFrame, ratings dataframe with user_id, movie_id and rating\n",
    "\n",
    "    Return:\n",
    "        mat: scipy.sparse.csr_matrix, sparse ratings matrix with rows being items and cols being users\n",
    "    \"\"\"\n",
    "    \n",
    "    mat = sparse.lil_matrix((item_n, user_n))\n",
    "    for _, row in df.iterrows():\n",
    "        user_id = int(row[0])\n",
    "        item_id = int(row[1])\n",
    "        item_iid = id_to_iid[item_id]\n",
    "        rating = row[2]\n",
    "        mat[item_iid, user_id] = rating\n",
    "    \n",
    "    return mat "
   ]
  },
  {
   "cell_type": "code",
   "execution_count": 17,
   "metadata": {},
   "outputs": [
    {
     "data": {
      "text/plain": [
       "(3883, 6040)"
      ]
     },
     "execution_count": 17,
     "metadata": {},
     "output_type": "execute_result"
    }
   ],
   "source": [
    "item_user_mat = df_to_mat(train_df)\n",
    "item_user_mat = item_user_mat.tocsr()\n",
    "sparse.save_npz('ml-1m/item_user_mat.npz', item_user_mat)\n",
    "item_user_mat.shape"
   ]
  },
  {
   "cell_type": "code",
   "execution_count": null,
   "metadata": {},
   "outputs": [],
   "source": [
    "item_user_mat = sparse.load_npz('ml-1m/item_user_mat.npz')"
   ]
  },
  {
   "cell_type": "code",
   "execution_count": 18,
   "metadata": {},
   "outputs": [
    {
     "data": {
      "text/html": [
       "<style>#sk-container-id-1 {color: black;background-color: white;}#sk-container-id-1 pre{padding: 0;}#sk-container-id-1 div.sk-toggleable {background-color: white;}#sk-container-id-1 label.sk-toggleable__label {cursor: pointer;display: block;width: 100%;margin-bottom: 0;padding: 0.3em;box-sizing: border-box;text-align: center;}#sk-container-id-1 label.sk-toggleable__label-arrow:before {content: \"▸\";float: left;margin-right: 0.25em;color: #696969;}#sk-container-id-1 label.sk-toggleable__label-arrow:hover:before {color: black;}#sk-container-id-1 div.sk-estimator:hover label.sk-toggleable__label-arrow:before {color: black;}#sk-container-id-1 div.sk-toggleable__content {max-height: 0;max-width: 0;overflow: hidden;text-align: left;background-color: #f0f8ff;}#sk-container-id-1 div.sk-toggleable__content pre {margin: 0.2em;color: black;border-radius: 0.25em;background-color: #f0f8ff;}#sk-container-id-1 input.sk-toggleable__control:checked~div.sk-toggleable__content {max-height: 200px;max-width: 100%;overflow: auto;}#sk-container-id-1 input.sk-toggleable__control:checked~label.sk-toggleable__label-arrow:before {content: \"▾\";}#sk-container-id-1 div.sk-estimator input.sk-toggleable__control:checked~label.sk-toggleable__label {background-color: #d4ebff;}#sk-container-id-1 div.sk-label input.sk-toggleable__control:checked~label.sk-toggleable__label {background-color: #d4ebff;}#sk-container-id-1 input.sk-hidden--visually {border: 0;clip: rect(1px 1px 1px 1px);clip: rect(1px, 1px, 1px, 1px);height: 1px;margin: -1px;overflow: hidden;padding: 0;position: absolute;width: 1px;}#sk-container-id-1 div.sk-estimator {font-family: monospace;background-color: #f0f8ff;border: 1px dotted black;border-radius: 0.25em;box-sizing: border-box;margin-bottom: 0.5em;}#sk-container-id-1 div.sk-estimator:hover {background-color: #d4ebff;}#sk-container-id-1 div.sk-parallel-item::after {content: \"\";width: 100%;border-bottom: 1px solid gray;flex-grow: 1;}#sk-container-id-1 div.sk-label:hover label.sk-toggleable__label {background-color: #d4ebff;}#sk-container-id-1 div.sk-serial::before {content: \"\";position: absolute;border-left: 1px solid gray;box-sizing: border-box;top: 0;bottom: 0;left: 50%;z-index: 0;}#sk-container-id-1 div.sk-serial {display: flex;flex-direction: column;align-items: center;background-color: white;padding-right: 0.2em;padding-left: 0.2em;position: relative;}#sk-container-id-1 div.sk-item {position: relative;z-index: 1;}#sk-container-id-1 div.sk-parallel {display: flex;align-items: stretch;justify-content: center;background-color: white;position: relative;}#sk-container-id-1 div.sk-item::before, #sk-container-id-1 div.sk-parallel-item::before {content: \"\";position: absolute;border-left: 1px solid gray;box-sizing: border-box;top: 0;bottom: 0;left: 50%;z-index: -1;}#sk-container-id-1 div.sk-parallel-item {display: flex;flex-direction: column;z-index: 1;position: relative;background-color: white;}#sk-container-id-1 div.sk-parallel-item:first-child::after {align-self: flex-end;width: 50%;}#sk-container-id-1 div.sk-parallel-item:last-child::after {align-self: flex-start;width: 50%;}#sk-container-id-1 div.sk-parallel-item:only-child::after {width: 0;}#sk-container-id-1 div.sk-dashed-wrapped {border: 1px dashed gray;margin: 0 0.4em 0.5em 0.4em;box-sizing: border-box;padding-bottom: 0.4em;background-color: white;}#sk-container-id-1 div.sk-label label {font-family: monospace;font-weight: bold;display: inline-block;line-height: 1.2em;}#sk-container-id-1 div.sk-label-container {text-align: center;}#sk-container-id-1 div.sk-container {/* jupyter's `normalize.less` sets `[hidden] { display: none; }` but bootstrap.min.css set `[hidden] { display: none !important; }` so we also need the `!important` here to be able to override the default hidden behavior on the sphinx rendered scikit-learn.org. See: https://github.com/scikit-learn/scikit-learn/issues/21755 */display: inline-block !important;position: relative;}#sk-container-id-1 div.sk-text-repr-fallback {display: none;}</style><div id=\"sk-container-id-1\" class=\"sk-top-container\"><div class=\"sk-text-repr-fallback\"><pre>NearestNeighbors(algorithm=&#x27;brute&#x27;, metric=&#x27;cosine&#x27;, n_jobs=-1, n_neighbors=10)</pre><b>In a Jupyter environment, please rerun this cell to show the HTML representation or trust the notebook. <br />On GitHub, the HTML representation is unable to render, please try loading this page with nbviewer.org.</b></div><div class=\"sk-container\" hidden><div class=\"sk-item\"><div class=\"sk-estimator sk-toggleable\"><input class=\"sk-toggleable__control sk-hidden--visually\" id=\"sk-estimator-id-1\" type=\"checkbox\" checked><label for=\"sk-estimator-id-1\" class=\"sk-toggleable__label sk-toggleable__label-arrow\">NearestNeighbors</label><div class=\"sk-toggleable__content\"><pre>NearestNeighbors(algorithm=&#x27;brute&#x27;, metric=&#x27;cosine&#x27;, n_jobs=-1, n_neighbors=10)</pre></div></div></div></div></div>"
      ],
      "text/plain": [
       "NearestNeighbors(algorithm='brute', metric='cosine', n_jobs=-1, n_neighbors=10)"
      ]
     },
     "execution_count": 18,
     "metadata": {},
     "output_type": "execute_result"
    }
   ],
   "source": [
    "knn = NearestNeighbors(metric='cosine', algorithm='brute', n_neighbors=10, n_jobs=-1)\n",
    "# fit the sparse matrix to the k nearest neighbor model\n",
    "knn.fit(X_tfidf)"
   ]
  },
  {
   "cell_type": "code",
   "execution_count": 19,
   "metadata": {},
   "outputs": [],
   "source": [
    "def cb_recommend(user_id, topk):\n",
    "    \n",
    "    user_ratings = item_user_mat[:, user_id]\n",
    "    rated_before = np.nonzero(user_ratings)[0]\n",
    "    sorted_rated_before = rated_before[np.argsort(user_ratings[rated_before].toarray().squeeze())][::-1]\n",
    "\n",
    "    if sorted_rated_before.size > 0:\n",
    "        # the user has at least one reviewed item\n",
    "        raw_recommends = {}\n",
    "        for item_iid in sorted_rated_before:\n",
    "            distances, indices = knn.kneighbors(X_tfidf[item_iid], n_neighbors=topk+1)\n",
    "            sorted_pairs = sorted(list(zip(indices.squeeze().tolist(),\n",
    "                                           distances.squeeze().tolist())),\n",
    "                                  key=lambda x: x[1])\n",
    "            raw_recommends[item_iid] = sorted_pairs\n",
    "        \n",
    "        # get the top 10 items\n",
    "        top_items = []\n",
    "        pos = 0\n",
    "        while True:\n",
    "            for item_iid in sorted_rated_before:\n",
    "                next_neighbor_iid = raw_recommends[item_iid][pos][0]\n",
    "                if next_neighbor_iid not in rated_before:\n",
    "                    top_items.append(iid_to_id[next_neighbor_iid])\n",
    "                if len(top_items) > topk - 1:\n",
    "                    return (user_id, np.array(top_items))\n",
    "            \n",
    "            pos += 1\n",
    "    else:\n",
    "        # the user has no review\n",
    "        top_items = list(map(lambda x: iid_to_id[x], random.sample(list(range(0, item_n)), topk)))\n",
    "        return (user_id, np.array(top_items))"
   ]
  },
  {
   "cell_type": "code",
   "execution_count": 33,
   "metadata": {},
   "outputs": [
    {
     "data": {
      "text/plain": [
       "(110,\n",
       " array([ 864,  223,  163,  864, 3002, 1222, 1241,  864,  864, 1408],\n",
       "       dtype=int64))"
      ]
     },
     "execution_count": 33,
     "metadata": {},
     "output_type": "execute_result"
    }
   ],
   "source": [
    "cb_recommend(110, 10)"
   ]
  },
  {
   "attachments": {},
   "cell_type": "markdown",
   "metadata": {},
   "source": [
    "**Make recommendations for all the users**"
   ]
  },
  {
   "cell_type": "code",
   "execution_count": null,
   "metadata": {},
   "outputs": [],
   "source": [
    "res = []\n",
    "for user in range(user_n):\n",
    "    res.append(cb_recommend(user, 5))\n",
    "user_recs_allinclude = {x[0]:x[1] for x in res}"
   ]
  },
  {
   "cell_type": "code",
   "execution_count": null,
   "metadata": {},
   "outputs": [],
   "source": [
    "df = pd.DataFrame(user_recs_allinclude)\n",
    "df.to_csv('user_recs_allinclude_df.csv', index=False)"
   ]
  },
  {
   "attachments": {},
   "cell_type": "markdown",
   "metadata": {},
   "source": [
    "## Collaborative Filtering"
   ]
  },
  {
   "cell_type": "code",
   "execution_count": 49,
   "metadata": {},
   "outputs": [],
   "source": [
    "mf = NMF(n_components=40, init='random', random_state=0, max_iter=500, verbose=False)\n",
    "\n",
    "\n",
    "known_rating_mat = item_user_mat.T\n",
    "user_f = mf.fit_transform(known_rating_mat)\n",
    "item_f = mf.components_.T\n",
    "est_rating_mat = np.dot(user_f, item_f.T)"
   ]
  },
  {
   "cell_type": "code",
   "execution_count": 50,
   "metadata": {},
   "outputs": [],
   "source": [
    "def cf_recommend(user_id, topk):\n",
    "    \n",
    "    user_ratings = known_rating_mat[user_id, :]\n",
    "    rated_before = np.nonzero(user_ratings)[1]\n",
    "    estimations = est_rating_mat[user_id, :].copy()\n",
    "    estimations[rated_before] = 0\n",
    "\n",
    "    top_item_iids = np.argsort(-estimations)[:topk]\n",
    "    top_ratings = -np.sort(-estimations)[:topk]\n",
    "\n",
    "    top_item_ids = [iid_to_id[i] for i in top_item_iids]\n",
    "\n",
    "    return (user_id, np.array(top_item_ids))\n"
   ]
  },
  {
   "attachments": {},
   "cell_type": "markdown",
   "metadata": {},
   "source": [
    "## Evaluation"
   ]
  },
  {
   "cell_type": "code",
   "execution_count": 51,
   "metadata": {},
   "outputs": [],
   "source": [
    "import math\n",
    "# ground_truth: list of items ordered by time\n",
    "def nDCG_Time(ground_truth, _recList):\n",
    "    rec_num = len(_recList) # topK\n",
    "    # ground_truth is already sorted by time\n",
    "    idealOrder = ground_truth\n",
    "    idealDCG = 0.0\n",
    "    for j in range(min(rec_num, len(idealOrder))):\n",
    "        idealDCG += ((math.pow(2.0, len(idealOrder) - j) - 1) / math.log(2.0 + j))\n",
    "\n",
    "    recDCG = 0.0\n",
    "    for j in range(rec_num):\n",
    "        item = _recList[j]\n",
    "        if item in ground_truth:\n",
    "            rank = len(ground_truth) - ground_truth.index(item) # why ground truth?\n",
    "            recDCG += ((math.pow(2.0, rank) - 1) / math.log(1.0 + j + 1))\n",
    "\n",
    "    return (recDCG / idealDCG)\n",
    "\n",
    "\n",
    "def Recall(_test_set, _recList):\n",
    "    hit = len(set(_recList).intersection(set(_test_set)))\n",
    "    return hit / float(len(_test_set))\n",
    "\n",
    "\n",
    "def Precision(_test_set, _recList):\n",
    "    hit = len(set(_recList).intersection(set(_test_set)))\n",
    "    return hit / float(len(_recList))"
   ]
  },
  {
   "cell_type": "code",
   "execution_count": 52,
   "metadata": {},
   "outputs": [
    {
     "data": {
      "text/plain": [
       "(200042, 4)"
      ]
     },
     "execution_count": 52,
     "metadata": {},
     "output_type": "execute_result"
    }
   ],
   "source": [
    "test_df.shape"
   ]
  },
  {
   "cell_type": "code",
   "execution_count": 53,
   "metadata": {},
   "outputs": [],
   "source": [
    "test_mat = df_to_mat(test_df)\n",
    "test_rating_mat = test_mat.T\n",
    "all_rating_mat = test_rating_mat + known_rating_mat\n",
    "all_rating_mat = all_rating_mat.toarray()"
   ]
  },
  {
   "cell_type": "code",
   "execution_count": 54,
   "metadata": {},
   "outputs": [],
   "source": [
    "f_users = users[users['gender'] == 'F']\n",
    "m_users=  users[users['gender'] == 'M']"
   ]
  },
  {
   "attachments": {},
   "cell_type": "markdown",
   "metadata": {},
   "source": [
    "### Evaluation of content-based filtering and collaborative filtering on 100 F and 100 M (20 runs)"
   ]
  },
  {
   "cell_type": "code",
   "execution_count": 55,
   "metadata": {},
   "outputs": [],
   "source": [
    "def sample_evaluate(test_user_ids, recommender):\n",
    "\n",
    "    r = []\n",
    "    p = []\n",
    "    n = []\n",
    "    \n",
    "    for user_id in test_user_ids:\n",
    "        test_items_iids = list(np.argwhere(test_mat[:, user_id] >= 4)[:, 0])\n",
    "        test_items = list(map(lambda x: iid_to_id[x], test_items_iids))\n",
    "\n",
    "        if len(test_items) > 0:\n",
    "            if recommender == 'content':\n",
    "                top_items = list(cb_recommend(user_id, 10)[1])\n",
    "            elif recommender == 'collaborative':\n",
    "                top_items = list(cf_recommend(user_id, 10)[1])\n",
    "            else:\n",
    "                raise ValueError(\"Value of recommender must be either content or collaborative.\")\n",
    "        \n",
    "            recall = Recall(test_items, top_items)\n",
    "            precision = Precision(test_items, top_items)\n",
    "            ndcg = nDCG_Time(test_items, top_items)\n",
    "\n",
    "            r.append(recall)\n",
    "            p.append(precision)\n",
    "            n.append(ndcg)\n",
    "    \n",
    "    return (np.average(r),np.average(p),np.average(n))"
   ]
  },
  {
   "cell_type": "code",
   "execution_count": 34,
   "metadata": {},
   "outputs": [],
   "source": [
    "all_f_cb_r = []\n",
    "all_f_cb_p = []\n",
    "all_f_cb_n = []\n",
    "\n",
    "all_m_cb_r = []\n",
    "all_m_cb_p = []\n",
    "all_m_cb_n = []\n",
    "\n",
    "all_f_cf_r = []\n",
    "all_f_cf_p = []\n",
    "all_f_cf_n = []\n",
    "\n",
    "all_m_cf_r = []\n",
    "all_m_cf_p = []\n",
    "all_m_cf_n = []\n",
    "\n",
    "epochs = 20\n",
    "\n",
    "for epoch in range(epochs):\n",
    "    test_f_user_ids = f_users.sample(100)['user_id'].to_numpy()\n",
    "    test_m_user_ids = m_users.sample(100)['user_id'].to_numpy()\n",
    "\n",
    "    # evaluation of content-based filtering on female users\n",
    "    f_cb_r, f_cb_p, f_cb_n = sample_evaluate(test_f_user_ids, 'content')\n",
    "    all_f_cb_r.append(f_cb_r)\n",
    "    all_f_cb_p.append(f_cb_p)\n",
    "    all_f_cb_n.append(f_cb_n)\n",
    "\n",
    "    # evaluation of content-based filtering on male users\n",
    "    m_cb_r, m_cb_p, m_cb_n = sample_evaluate(test_m_user_ids, 'content')\n",
    "    all_m_cb_r.append(m_cb_r)\n",
    "    all_m_cb_p.append(m_cb_p)\n",
    "    all_m_cb_n.append(m_cb_n)\n",
    "\n",
    "    # evaluation of collaborative filtering on female users\n",
    "    f_cf_r, f_cf_p, f_cf_n = sample_evaluate(test_f_user_ids, 'collaborative')\n",
    "    all_f_cf_r.append(f_cf_r)\n",
    "    all_f_cf_p.append(f_cf_p)\n",
    "    all_f_cf_n.append(f_cf_n)\n",
    "\n",
    "    # evaluation of collaborative filtering on male users\n",
    "    m_cf_r, m_cf_p, m_cf_n = sample_evaluate(test_m_user_ids, 'collaborative')\n",
    "    all_m_cf_r.append(m_cf_r)\n",
    "    all_m_cf_p.append(m_cf_p)\n",
    "    all_m_cf_n.append(m_cf_n)\n",
    "    "
   ]
  },
  {
   "cell_type": "code",
   "execution_count": 57,
   "metadata": {},
   "outputs": [
    {
     "data": {
      "image/png": "[encoded data removed]",
      "text/plain": [
       "<Figure size 640x480 with 1 Axes>"
      ]
     },
     "metadata": {},
     "output_type": "display_data"
    }
   ],
   "source": [
    "fig, ax = plt.subplots()\n",
    "ax.plot(np.arange(epochs)+1, all_f_cb_r, 'r', label='Female (Content Based)')\n",
    "ax.plot(np.arange(epochs)+1, all_m_cb_r, 'b', label='Male (Content Based)')\n",
    "ax.plot(np.arange(epochs)+1, all_f_cf_r, 'r--', label='Female (Collaborative)')\n",
    "ax.plot(np.arange(epochs)+1, all_m_cf_r, 'b--', label='Male (Collaborative)')\n",
    "legend = ax.legend(loc='upper right')\n",
    "ax.set_xlim([1,epochs])\n",
    "ax.set_ylim([0, 0.4])\n",
    "ax.set_xlabel('Run Number')\n",
    "ax.set_ylabel('Recall')\n",
    "plt.xticks(range(1,epochs+1))\n",
    "plt.show()"
   ]
  },
  {
   "cell_type": "code",
   "execution_count": 58,
   "metadata": {},
   "outputs": [
    {
     "name": "stdout",
     "output_type": "stream",
     "text": [
      "Content Based Filtering Female:\n",
      "- Average Recall: 0.012\n",
      "- Standard Deviation: 0.003\n",
      "Content Based Filtering Male:\n",
      "- Average Recall: 0.014\n",
      "- Standard Deviation: 0.004\n",
      "Collaborative Filtering Female:\n",
      "- Average Recall: 0.213\n",
      "- Standard Deviation: 0.018\n",
      "Collaborative Filtering Male:\n",
      "- Average Recall: 0.276\n",
      "- Standard Deviation: 0.023\n"
     ]
    }
   ],
   "source": [
    "print('Content Based Filtering Female:\\n- Average Recall: {:.3f}\\n- Standard Deviation: {:.3f}'.format(np.mean(all_f_cb_r), np.std(all_f_cb_r)))\n",
    "print('Content Based Filtering Male:\\n- Average Recall: {:.3f}\\n- Standard Deviation: {:.3f}'.format(np.mean(all_m_cb_r), np.std(all_m_cb_r)))\n",
    "print('Collaborative Filtering Female:\\n- Average Recall: {:.3f}\\n- Standard Deviation: {:.3f}'.format(np.mean(all_f_cf_r), np.std(all_f_cf_r)))\n",
    "print('Collaborative Filtering Male:\\n- Average Recall: {:.3f}\\n- Standard Deviation: {:.3f}'.format(np.mean(all_m_cf_r), np.std(all_m_cf_r)))"
   ]
  },
  {
   "cell_type": "code",
   "execution_count": 59,
   "metadata": {},
   "outputs": [
    {
     "data": {
      "image/png": "[encoded data removed]",
      "text/plain": [
       "<Figure size 640x480 with 1 Axes>"
      ]
     },
     "metadata": {},
     "output_type": "display_data"
    }
   ],
   "source": [
    "fig, ax = plt.subplots()\n",
    "ax.plot(np.arange(epochs)+1, all_f_cb_p, 'r', label='Female (Content Based)')\n",
    "ax.plot(np.arange(epochs)+1, all_m_cb_p, 'b', label='Male (Content Based)')\n",
    "ax.plot(np.arange(epochs)+1, all_f_cf_p, 'r--', label='Female (Collaborative)')\n",
    "ax.plot(np.arange(epochs)+1, all_m_cf_p, 'b--', label='Male (Collaborative)')\n",
    "legend = ax.legend(loc='upper right')\n",
    "ax.set_xlim([1,epochs])\n",
    "ax.set_ylim([0, 0.4])\n",
    "ax.set_xlabel('Run Number')\n",
    "ax.set_ylabel('Precision')\n",
    "plt.xticks(range(1,epochs+1))\n",
    "plt.show()"
   ]
  },
  {
   "cell_type": "code",
   "execution_count": 60,
   "metadata": {},
   "outputs": [
    {
     "name": "stdout",
     "output_type": "stream",
     "text": [
      "Content Based Filtering Female:\n",
      "- Average Precision: 0.009\n",
      "- Standard Deviation: 0.003\n",
      "Content Based Filtering Male:\n",
      "- Average Precision: 0.009\n",
      "- Standard Deviation: 0.004\n",
      "Collaborative Filtering Female:\n",
      "- Average Precision: 0.169\n",
      "- Standard Deviation: 0.021\n",
      "Collaborative Filtering Male:\n",
      "- Average Precision: 0.188\n",
      "- Standard Deviation: 0.016\n"
     ]
    }
   ],
   "source": [
    "print('Content Based Filtering Female:\\n- Average Precision: {:.3f}\\n- Standard Deviation: {:.3f}'.format(np.mean(all_f_cb_p), np.std(all_f_cb_p)))\n",
    "print('Content Based Filtering Male:\\n- Average Precision: {:.3f}\\n- Standard Deviation: {:.3f}'.format(np.mean(all_m_cb_p), np.std(all_m_cb_p)))\n",
    "print('Collaborative Filtering Female:\\n- Average Precision: {:.3f}\\n- Standard Deviation: {:.3f}'.format(np.mean(all_f_cf_p), np.std(all_f_cf_p)))\n",
    "print('Collaborative Filtering Male:\\n- Average Precision: {:.3f}\\n- Standard Deviation: {:.3f}'.format(np.mean(all_m_cf_p), np.std(all_m_cf_p)))"
   ]
  },
  {
   "cell_type": "code",
   "execution_count": 61,
   "metadata": {},
   "outputs": [
    {
     "data": {
      "image/png": "[encoded data removed]",
      "text/plain": [
       "<Figure size 640x480 with 1 Axes>"
      ]
     },
     "metadata": {},
     "output_type": "display_data"
    }
   ],
   "source": [
    "fig, ax = plt.subplots()\n",
    "ax.plot(np.arange(epochs)+1, all_f_cb_n, 'r', label='Female (Content Based)')\n",
    "ax.plot(np.arange(epochs)+1, all_m_cb_n, 'b', label='Male (Content Based)')\n",
    "ax.plot(np.arange(epochs)+1, all_f_cf_n, 'r--', label='Female (Collaborative)')\n",
    "ax.plot(np.arange(epochs)+1, all_m_cf_n, 'b--', label='Male (Collaborative)')\n",
    "legend = ax.legend(loc='upper right')\n",
    "ax.set_xlim([1,epochs])\n",
    "ax.set_ylim([0, 0.3])\n",
    "ax.set_xlabel('Run Number')\n",
    "ax.set_ylabel('nDCG')\n",
    "plt.xticks(range(1,epochs+1))\n",
    "plt.show()"
   ]
  },
  {
   "cell_type": "code",
   "execution_count": 62,
   "metadata": {},
   "outputs": [
    {
     "name": "stdout",
     "output_type": "stream",
     "text": [
      "Content Based Filtering Female:\n",
      "- Average nDCG: 0.009\n",
      "- Standard Deviation: 0.005\n",
      "Content Based Filtering Male:\n",
      "- Average nDCG: 0.008\n",
      "- Standard Deviation: 0.006\n",
      "Collaborative Filtering Female:\n",
      "- Average nDCG: 0.129\n",
      "- Standard Deviation: 0.023\n",
      "Collaborative Filtering Male:\n",
      "- Average nDCG: 0.151\n",
      "- Standard Deviation: 0.017\n"
     ]
    }
   ],
   "source": [
    "print('Content Based Filtering Female:\\n- Average nDCG: {:.3f}\\n- Standard Deviation: {:.3f}'.format(np.mean(all_f_cb_n), np.std(all_f_cb_n)))\n",
    "print('Content Based Filtering Male:\\n- Average nDCG: {:.3f}\\n- Standard Deviation: {:.3f}'.format(np.mean(all_m_cb_n), np.std(all_m_cb_n)))\n",
    "print('Collaborative Filtering Female:\\n- Average nDCG: {:.3f}\\n- Standard Deviation: {:.3f}'.format(np.mean(all_f_cf_n), np.std(all_f_cf_n)))\n",
    "print('Collaborative Filtering Male:\\n- Average nDCG: {:.3f}\\n- Standard Deviation: {:.3f}'.format(np.mean(all_m_cf_n), np.std(all_m_cf_n)))"
   ]
  },
  {
   "attachments": {},
   "cell_type": "markdown",
   "metadata": {},
   "source": [
    "## Latent Dirichlet Allocation"
   ]
  },
  {
   "attachments": {},
   "cell_type": "markdown",
   "metadata": {},
   "source": [
    "Use a smaller tf-idf vectorizer for lda: only use genres for tokens, no combinations of genres."
   ]
  },
  {
   "cell_type": "code",
   "execution_count": null,
   "metadata": {},
   "outputs": [],
   "source": [
    "small_tf =  TfidfVectorizer(analyzer=lambda x: (c for i in range(1, 2) for c in combinations(x.split('|'), r=i)))"
   ]
  },
  {
   "cell_type": "code",
   "execution_count": null,
   "metadata": {},
   "outputs": [],
   "source": [
    "small_analyzer = small_tf.build_analyzer()\n",
    "[token for token in small_analyzer('Action|Crime|Sci-Fi')]"
   ]
  },
  {
   "cell_type": "code",
   "execution_count": null,
   "metadata": {},
   "outputs": [],
   "source": [
    "small_X_tfidf = small_tf.fit_transform(movies['genres'])\n",
    "small_X_tfidf.shape"
   ]
  },
  {
   "attachments": {},
   "cell_type": "markdown",
   "metadata": {},
   "source": [
    "3883 movies with 18 token (genres) weights."
   ]
  },
  {
   "cell_type": "code",
   "execution_count": null,
   "metadata": {},
   "outputs": [],
   "source": [
    "lda = LatentDirichletAllocation(n_components=10) # 5 topics"
   ]
  },
  {
   "cell_type": "code",
   "execution_count": null,
   "metadata": {},
   "outputs": [],
   "source": [
    "X_lda = lda.fit_transform(small_X_tfidf)"
   ]
  },
  {
   "cell_type": "code",
   "execution_count": null,
   "metadata": {},
   "outputs": [],
   "source": [
    "lda.components_.shape"
   ]
  },
  {
   "attachments": {},
   "cell_type": "markdown",
   "metadata": {},
   "source": [
    "The weights of 20 tokens in 10 latent topics."
   ]
  },
  {
   "cell_type": "code",
   "execution_count": null,
   "metadata": {},
   "outputs": [],
   "source": [
    "genres = small_tf.get_feature_names()"
   ]
  },
  {
   "cell_type": "code",
   "execution_count": null,
   "metadata": {},
   "outputs": [],
   "source": [
    "for i, weights in enumerate(lda.components_):\n",
    "    zipped = zip(genres, weights)\n",
    "    top_genres_key = sorted(zipped, key = lambda t: t[1], reverse=True)[:4]\n",
    "    top_genres_list = list(dict(top_genres_key).keys())\n",
    "    print(\"Topic \" + str(i) + \": \", top_genres_list)"
   ]
  },
  {
   "attachments": {},
   "cell_type": "markdown",
   "metadata": {},
   "source": [
    "## Classical Evaluation Metrics"
   ]
  },
  {
   "cell_type": "code",
   "execution_count": null,
   "metadata": {},
   "outputs": [],
   "source": [
    "all_rating_mat = test_rating_mat + known_rating_mat"
   ]
  },
  {
   "cell_type": "code",
   "execution_count": null,
   "metadata": {},
   "outputs": [],
   "source": [
    "all_rating_mat = all_rating_mat.toarray()"
   ]
  },
  {
   "cell_type": "code",
   "execution_count": null,
   "metadata": {},
   "outputs": [],
   "source": [
    "f_ids = f_users['user_id'].to_numpy()\n",
    "m_ids = m_users['user_id'].to_numpy()\n",
    "\n",
    "f_rating_mat = all_rating_mat.copy()\n",
    "m_rating_mat = all_rating_mat.copy()\n",
    "\n",
    "f_rating_mat[m_ids] = 0.0\n",
    "m_rating_mat[f_ids] = 0.0\n",
    "\n",
    "f_avg_item_ratings = np.true_divide(f_rating_mat.sum(0), (f_rating_mat != 0).sum(0))\n",
    "m_avg_item_ratings = np.true_divide(m_rating_mat.sum(0), (m_rating_mat != 0).sum(0))\n",
    "\n",
    "f_avg_item_ratings = np.nan_to_num(f_avg_item_ratings)\n",
    "m_avg_item_ratings = np.nan_to_num(m_avg_item_ratings)"
   ]
  },
  {
   "cell_type": "code",
   "execution_count": null,
   "metadata": {},
   "outputs": [],
   "source": [
    "f_est_mat = est_rating_mat.copy()\n",
    "m_est_mat = est_rating_mat.copy()\n",
    "\n",
    "f_est_mat[m_ids] = 0.0\n",
    "m_est_mat[f_ids] = 0.0\n",
    "\n",
    "f_avg_est_ratings = np.true_divide(f_est_mat.sum(0), (f_est_mat != 0).sum(0))\n",
    "m_avg_est_ratings = np.true_divide(m_est_mat.sum(0), (m_est_mat != 0).sum(0))\n",
    "\n",
    "f_avg_est_ratings = np.nan_to_num(f_avg_est_ratings)\n",
    "m_avg_est_ratings = np.nan_to_num(m_avg_est_ratings)"
   ]
  },
  {
   "attachments": {},
   "cell_type": "markdown",
   "metadata": {},
   "source": [
    "**Value Unfairness**"
   ]
  },
  {
   "cell_type": "code",
   "execution_count": null,
   "metadata": {},
   "outputs": [],
   "source": [
    "np.mean(np.abs((f_avg_est_ratings - f_avg_item_ratings) - (m_avg_est_ratings - m_avg_item_ratings)))"
   ]
  },
  {
   "attachments": {},
   "cell_type": "markdown",
   "metadata": {},
   "source": [
    "**Underestimation Unfairness**"
   ]
  },
  {
   "cell_type": "code",
   "execution_count": null,
   "metadata": {},
   "outputs": [],
   "source": [
    "f_avg_est_ratings - f_avg_item_ratings"
   ]
  },
  {
   "cell_type": "code",
   "execution_count": null,
   "metadata": {},
   "outputs": [],
   "source": [
    "np.mean(np.abs(np.maximum(np.zeros((3883,)), (f_avg_item_ratings - f_avg_est_ratings)) - np.maximum(np.zeros((3883,)), (m_avg_item_ratings - m_avg_est_ratings))))"
   ]
  },
  {
   "attachments": {},
   "cell_type": "markdown",
   "metadata": {},
   "source": [
    "**Overestimation Unfairness**"
   ]
  },
  {
   "cell_type": "code",
   "execution_count": null,
   "metadata": {},
   "outputs": [],
   "source": [
    "np.mean(np.abs(np.maximum(np.zeros((3883,)), (f_avg_est_ratings - f_avg_item_ratings)) - np.maximum(np.zeros((3883,)), (m_avg_est_ratings - m_avg_item_ratings))))"
   ]
  },
  {
   "cell_type": "code",
   "execution_count": null,
   "metadata": {},
   "outputs": [],
   "source": []
  }
 ],
 "metadata": {
  "kernelspec": {
   "display_name": "Python 3",
   "language": "python",
   "name": "python3"
  },
  "language_info": {
   "codemirror_mode": {
    "name": "ipython",
    "version": 3
   },
   "file_extension": ".py",
   "mimetype": "text/x-python",
   "name": "python",
   "nbconvert_exporter": "python",
   "pygments_lexer": "ipython3",
   "version": "3.8.13"
  },
  "orig_nbformat": 4,
  "vscode": {
   "interpreter": {
    "hash": "f96e607b91a2e2d3251db7ddf844b8ed38c6c958a32172526e41c91f117aef26"
   }
  }
 },
 "nbformat": 4,
 "nbformat_minor": 2
}
